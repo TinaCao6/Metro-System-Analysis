{
 "cells": [
  {
   "cell_type": "code",
   "execution_count": 1,
   "metadata": {},
   "outputs": [
    {
     "name": "stdout",
     "output_type": "stream",
     "text": [
      "manger init\n",
      "mangager register\n",
      "mangager register\n"
     ]
    }
   ],
   "source": [
    "from pathlib import Path\n",
    "import sys\n",
    "import yaml\n",
    "import time\n",
    "import os\n",
    "import copy\n",
    "\n",
    "import numpy as np\n",
    "import pandas as pd\n",
    "import geopandas as gpd\n",
    "import matplotlib.pyplot as plt\n",
    "from matplotlib import lines\n",
    "\n",
    "DIR = Path('..')\n",
    "sys.path.insert(0, str(DIR))\n",
    "from SCanalyzer import SCanalyzer\n",
    "from SCanalyzer.busSim import BusSim, Config\n",
    "from SCanalyzer.busSim.manager import managerFactory\n",
    "from SCanalyzer.gtfs_edit import edit_double\n",
    "from SCanalyzer.util import findEPSG\n",
    "from pyproj import Transformer\n",
    "\n",
    "import matplotlib.pyplot as plt\n",
    "from matplotlib import lines\n",
    "\n",
    "import warnings\n",
    "from shapely.errors import ShapelyDeprecationWarning\n",
    "warnings.filterwarnings(\"ignore\", category=ShapelyDeprecationWarning)\n",
    "\n",
    "from shapely import geometry\n",
    "\n",
    "%matplotlib inline"
   ]
  },
  {
   "cell_type": "code",
   "execution_count": 2,
   "metadata": {},
   "outputs": [],
   "source": [
    "def get_yelp_api_key():\n",
    "    with open(\"../config.yml\", 'r') as yml:\n",
    "        cfg = yaml.safe_load(yml)\n",
    "        return cfg[\"yelp\"][\"api_key\"]\n",
    "\n",
    "def plot_background(crs):\n",
    "    background_path = os.path.join('..', 'data', 'plot', 'background_stlouis')\n",
    "    city = gpd.read_file(os.path.join(background_path, \"stl_boundary\")).to_crs(crs)\n",
    "    #lakes = gpd.read_file(os.path.join(background_path, \"water-meter-shp\")).to_crs(crs)\n",
    "    street = gpd.read_file(os.path.join(background_path, \"streets\")).to_crs(crs)\n",
    "    # city = gpd.read_file(background_path + \"madison-shp\")\n",
    "    # lakes = gpd.read_file(background_path + \"water-shp\")\n",
    "    # street = gpd.read_file(background_path + \"street-shp\")\n",
    "\n",
    "    ax = city.plot(color=\"lightgray\", alpha=.2, figsize=(12, 12), zorder=2)\n",
    "    #lakes.plot(color=\"lightblue\", ax=ax, zorder=1, alpha=0.8)\n",
    "    street.plot(color=\"darkgray\", alpha = .5, ax=ax, zorder=3)\n",
    "    return ax"
   ]
  },
  {
   "cell_type": "markdown",
   "metadata": {},
   "source": [
    "# route remove study"
   ]
  },
  {
   "cell_type": "code",
   "execution_count": 3,
   "metadata": {},
   "outputs": [
    {
     "name": "stdout",
     "output_type": "stream",
     "text": [
      "stops_meter exists\n"
     ]
    }
   ],
   "source": [
    "api_key = 'ZsHZFGtKEZeOOXhTne98eErmfd6BfNTm9GqO2S6inSnWzDwtgC2sEauXcB-8zUna_lXZEal4jsW_St6O0OQOcuNvifrr6uqNYmjFXW-FyVKvaMyczbihWELI80tjYHYx'\n",
    "gtfo = SCanalyzer(os.path.join('..', 'data', 'lansing_gtfs.zip'))\n",
    "census_gdf = gtfo.load_census()\n",
    "services_gdf = gtfo.load_yelp(api_key=api_key)"
   ]
  },
  {
   "cell_type": "code",
   "execution_count": 4,
   "metadata": {},
   "outputs": [
    {
     "data": {
      "text/html": [
       "<div>\n",
       "<style scoped>\n",
       "    .dataframe tbody tr th:only-of-type {\n",
       "        vertical-align: middle;\n",
       "    }\n",
       "\n",
       "    .dataframe tbody tr th {\n",
       "        vertical-align: top;\n",
       "    }\n",
       "\n",
       "    .dataframe thead th {\n",
       "        text-align: right;\n",
       "    }\n",
       "</style>\n",
       "<table border=\"1\" class=\"dataframe\">\n",
       "  <thead>\n",
       "    <tr style=\"text-align: right;\">\n",
       "      <th></th>\n",
       "      <th>id</th>\n",
       "      <th>service</th>\n",
       "      <th>name</th>\n",
       "      <th>latitude</th>\n",
       "      <th>longitude</th>\n",
       "    </tr>\n",
       "  </thead>\n",
       "  <tbody>\n",
       "    <tr>\n",
       "      <th>0</th>\n",
       "      <td>32dPMAa3vC1eeih8ZfGCIw</td>\n",
       "      <td>banks</td>\n",
       "      <td>Bank of America Financial Center</td>\n",
       "      <td>38.643353</td>\n",
       "      <td>-90.260601</td>\n",
       "    </tr>\n",
       "    <tr>\n",
       "      <th>1</th>\n",
       "      <td>eD1Yct398nNK4PHf4X3vMQ</td>\n",
       "      <td>banks</td>\n",
       "      <td>Bank of America Financial Center</td>\n",
       "      <td>38.647589</td>\n",
       "      <td>-90.309282</td>\n",
       "    </tr>\n",
       "    <tr>\n",
       "      <th>2</th>\n",
       "      <td>0U7SVrpHBkXg1Ka5TEXKbA</td>\n",
       "      <td>banks</td>\n",
       "      <td>Pulaski Bank</td>\n",
       "      <td>38.644540</td>\n",
       "      <td>-90.261810</td>\n",
       "    </tr>\n",
       "    <tr>\n",
       "      <th>3</th>\n",
       "      <td>Ns1mgVrGKCxTv_ZGM9K7Vg</td>\n",
       "      <td>banks</td>\n",
       "      <td>Chase Bank</td>\n",
       "      <td>38.628834</td>\n",
       "      <td>-90.341978</td>\n",
       "    </tr>\n",
       "    <tr>\n",
       "      <th>4</th>\n",
       "      <td>beKlLgyJBBVtqENIUQ-NtA</td>\n",
       "      <td>banks</td>\n",
       "      <td>First Community Credit Union</td>\n",
       "      <td>38.672690</td>\n",
       "      <td>-90.421200</td>\n",
       "    </tr>\n",
       "    <tr>\n",
       "      <th>...</th>\n",
       "      <td>...</td>\n",
       "      <td>...</td>\n",
       "      <td>...</td>\n",
       "      <td>...</td>\n",
       "      <td>...</td>\n",
       "    </tr>\n",
       "    <tr>\n",
       "      <th>2142</th>\n",
       "      <td>wjDtIbM5VOY9G9AOQvKKAA</td>\n",
       "      <td>supermarket</td>\n",
       "      <td>Schnucks - Cottleville</td>\n",
       "      <td>38.745250</td>\n",
       "      <td>-90.636860</td>\n",
       "    </tr>\n",
       "    <tr>\n",
       "      <th>2143</th>\n",
       "      <td>IVN1857u-6C4jCWbQfkOVw</td>\n",
       "      <td>supermarket</td>\n",
       "      <td>Hanlen's Meat Shoppe &amp; Catering</td>\n",
       "      <td>38.599400</td>\n",
       "      <td>-90.413090</td>\n",
       "    </tr>\n",
       "    <tr>\n",
       "      <th>2144</th>\n",
       "      <td>qQSscPMhk3frtSNilF1cGA</td>\n",
       "      <td>supermarket</td>\n",
       "      <td>VOM FASS</td>\n",
       "      <td>38.612877</td>\n",
       "      <td>-90.317635</td>\n",
       "    </tr>\n",
       "    <tr>\n",
       "      <th>2145</th>\n",
       "      <td>YNFkP6HqZxwbv-2YMPyZtQ</td>\n",
       "      <td>supermarket</td>\n",
       "      <td>Crystal &amp; Spice Shoppe</td>\n",
       "      <td>38.513344</td>\n",
       "      <td>-89.979347</td>\n",
       "    </tr>\n",
       "    <tr>\n",
       "      <th>2146</th>\n",
       "      <td>X-XEau6W1kS9Zpo3nJmS4w</td>\n",
       "      <td>supermarket</td>\n",
       "      <td>Sam's Club</td>\n",
       "      <td>38.599440</td>\n",
       "      <td>-90.470940</td>\n",
       "    </tr>\n",
       "  </tbody>\n",
       "</table>\n",
       "<p>2147 rows × 5 columns</p>\n",
       "</div>"
      ],
      "text/plain": [
       "                          id      service                              name  \\\n",
       "0     32dPMAa3vC1eeih8ZfGCIw        banks  Bank of America Financial Center   \n",
       "1     eD1Yct398nNK4PHf4X3vMQ        banks  Bank of America Financial Center   \n",
       "2     0U7SVrpHBkXg1Ka5TEXKbA        banks                      Pulaski Bank   \n",
       "3     Ns1mgVrGKCxTv_ZGM9K7Vg        banks                        Chase Bank   \n",
       "4     beKlLgyJBBVtqENIUQ-NtA        banks      First Community Credit Union   \n",
       "...                      ...          ...                               ...   \n",
       "2142  wjDtIbM5VOY9G9AOQvKKAA  supermarket            Schnucks - Cottleville   \n",
       "2143  IVN1857u-6C4jCWbQfkOVw  supermarket   Hanlen's Meat Shoppe & Catering   \n",
       "2144  qQSscPMhk3frtSNilF1cGA  supermarket                          VOM FASS   \n",
       "2145  YNFkP6HqZxwbv-2YMPyZtQ  supermarket            Crystal & Spice Shoppe   \n",
       "2146  X-XEau6W1kS9Zpo3nJmS4w  supermarket                        Sam's Club   \n",
       "\n",
       "       latitude  longitude  \n",
       "0     38.643353 -90.260601  \n",
       "1     38.647589 -90.309282  \n",
       "2     38.644540 -90.261810  \n",
       "3     38.628834 -90.341978  \n",
       "4     38.672690 -90.421200  \n",
       "...         ...        ...  \n",
       "2142  38.745250 -90.636860  \n",
       "2143  38.599400 -90.413090  \n",
       "2144  38.612877 -90.317635  \n",
       "2145  38.513344 -89.979347  \n",
       "2146  38.599440 -90.470940  \n",
       "\n",
       "[2147 rows x 5 columns]"
      ]
     },
     "execution_count": 4,
     "metadata": {},
     "output_type": "execute_result"
    }
   ],
   "source": [
    "services_gdf"
   ]
  },
  {
   "cell_type": "code",
   "execution_count": 5,
   "metadata": {},
   "outputs": [
    {
     "name": "stdout",
     "output_type": "stream",
     "text": [
      "80\n",
      "get available manager\n",
      "manager create\n",
      "self=<SCanalyzer.busSim.manager.managerFactory.ManagerFactory object at 0x7f943ad38a30>\n",
      "key='local'\n",
      "manager=<class 'SCanalyzer.busSim.manager.localManager.LocalManager'>\n",
      "Empty DataFrame\n",
      "Columns: [geometry, start_time, search_time, add_service_time, add_census_time]\n",
      "Index: []\n"
     ]
    },
    {
     "name": "stderr",
     "output_type": "stream",
     "text": [
      "100%|██████████| 5082/5082 [01:15<00:00, 67.57it/s]\n"
     ]
    }
   ],
   "source": [
    "# routes = [ 2,  4,  5,  6,  7,  8, 10, 11, 12, 13, 15, 16, 17, 18, 20, 21, 22,\n",
    "#        23, 26, 27, 30, 31, 32, 33, 36, 39, 40, 44, 48, 49, 50, 51, 52, 55,\n",
    "#        67, 70, 72, 73, 75, 59, 63, 68, 78, 80, 84, 81, 82]\n",
    "\n",
    "routes = [80]\n",
    "for route in routes:\n",
    "    print(route)\n",
    "    gtfo.set_batch_label(f\"{route}-rm\")\n",
    "    config = Config(day=\"monday\", elapse_time=\"00:20:00\", interval=\"08:00:00\", max_walking_min=10, route_remove=[])\n",
    "    config.set_starts(centroids=census_gdf)\n",
    "\n",
    "    perf_df = pd.DataFrame(\n",
    "            columns=[\"geometry\", \"start_time\", \"search_time\", \"add_service_time\", \"add_census_time\"])\n",
    "    result_gdf = gtfo.search(config, perf_df)\n",
    "    gtfo.add_service_metrics(result_gdf, services_gdf, perf_df)\n",
    "#     gtfo.add_demographic_metrics(result_gdf, census_gdf, perf_df)\n",
    "    result_gdf.to_csv(os.path.join('.', 'out', f'result{route}.csv'), index=False)\n",
    "    perf_df.to_csv(os.path.join('.', 'out', f'perf{route}.csv'), index=False)"
   ]
  },
  {
   "cell_type": "code",
   "execution_count": 6,
   "metadata": {},
   "outputs": [],
   "source": [
    "def get_score(area, banks=0, clinics=0, dentists=0, hospitals=0, supermarkets=0):\n",
    "    x6 = 1\n",
    "    if banks == 0:\n",
    "        x6 = x6/2\n",
    "    if supermarkets == 0:\n",
    "        x6 = x6/2\n",
    "    if hospitals == 0:\n",
    "        x6 = x6/2\n",
    "    if clinics == 0:\n",
    "        x6 = x6/2\n",
    "    if dentists == 0:\n",
    "        x6 = x6/2\n",
    "    score = (area + banks + clinics + hospitals + dentists + supermarkets) * x6\n",
    "    return score"
   ]
  },
  {
   "cell_type": "code",
   "execution_count": 7,
   "metadata": {},
   "outputs": [
    {
     "data": {
      "text/html": [
       "<div>\n",
       "<style scoped>\n",
       "    .dataframe tbody tr th:only-of-type {\n",
       "        vertical-align: middle;\n",
       "    }\n",
       "\n",
       "    .dataframe tbody tr th {\n",
       "        vertical-align: top;\n",
       "    }\n",
       "\n",
       "    .dataframe thead th {\n",
       "        text-align: right;\n",
       "    }\n",
       "</style>\n",
       "<table border=\"1\" class=\"dataframe\">\n",
       "  <thead>\n",
       "    <tr style=\"text-align: right;\">\n",
       "      <th></th>\n",
       "      <th>geometry</th>\n",
       "      <th>start_time</th>\n",
       "      <th>map_identifier</th>\n",
       "      <th>banks</th>\n",
       "      <th>clinics</th>\n",
       "      <th>dentists</th>\n",
       "      <th>hospitals</th>\n",
       "      <th>supermarket</th>\n",
       "    </tr>\n",
       "  </thead>\n",
       "  <tbody>\n",
       "  </tbody>\n",
       "</table>\n",
       "</div>"
      ],
      "text/plain": [
       "Empty DataFrame\n",
       "Columns: [geometry, start_time, map_identifier, banks, clinics, dentists, hospitals, supermarket]\n",
       "Index: []"
      ]
     },
     "execution_count": 7,
     "metadata": {},
     "output_type": "execute_result"
    }
   ],
   "source": [
    "result_gdf[result_gdf['banks'] != 0]"
   ]
  },
  {
   "cell_type": "code",
   "execution_count": 8,
   "metadata": {},
   "outputs": [],
   "source": [
    "#result_gdf[result_gdf['score'] != 0]"
   ]
  },
  {
   "cell_type": "code",
   "execution_count": 9,
   "metadata": {},
   "outputs": [
    {
     "data": {
      "text/plain": [
       "<AxesSubplot:>"
      ]
     },
     "execution_count": 9,
     "metadata": {},
     "output_type": "execute_result"
    },
    {
     "data": {
      "image/png": "[encoded data removed]",
      "text/plain": [
       "<Figure size 432x288 with 1 Axes>"
      ]
     },
     "metadata": {
      "needs_background": "light"
     },
     "output_type": "display_data"
    }
   ],
   "source": [
    "gpd.GeoSeries(result_gdf['geometry']).plot()"
   ]
  },
  {
   "cell_type": "code",
   "execution_count": 10,
   "metadata": {},
   "outputs": [],
   "source": [
    "def plot_preferred_points(result_gdf, city_gpd=None):\n",
    "    if city_gpd is None:\n",
    "        polys = [[p.x, p.y] for p in result_gdf['geometry']]\n",
    "        ax = gpd.GeoSeries(geometry.Polygon(polys).convex_hull).plot(color=\"lightgrey\", alpha=0.5)\n",
    "    else:\n",
    "        ax = city_gpd.plot(color=\"grey\", alpha=0.5)\n",
    "    result_gdf['score'] = result_gdf.apply(axis=1, func=lambda row: get_score(0, row['banks'], row['clinics'], row['dentists'], row['hospitals'], row['supermarket']))\n",
    "    results = result_gdf[result_gdf['score'] != 0].sort_values('score')\n",
    "    points_low = results.head(10)\n",
    "    points_high = results.tail(10)\n",
    "    gpd.GeoSeries(points_low['geometry']).plot(ax=ax, color=\"red\")\n",
    "    gpd.GeoSeries(points_high['geometry']).plot(ax=ax, color=\"green\")\n",
    "    points = {\"low\": [(p.y, p.x) for p in points_low['geometry']],\n",
    "    \"high\": [(p.y, p.x) for p in points_high['geometry']]}\n",
    "\n",
    "    lineslist = []\n",
    "    lineslist.append(lines.Line2D([],[],color=\"white\", markerfacecolor = \"red\", marker = \"o\", markersize=10, label = \"low score\"))\n",
    "    lineslist.append(lines.Line2D([],[],color=\"white\", markerfacecolor = \"green\", marker = \"o\", markersize=10, label = \"high score\"))\n",
    "    ax.legend(handles = lineslist, loc=\"upper left\",prop={\"size\": 10})\n",
    "    plt.axis(\"off\")\n",
    "    plt.savefig(\"Madison_startpoints.png\", dpi=300, bbox_inches=\"tight\")\n",
    "    print(points)\n"
   ]
  },
  {
   "cell_type": "code",
   "execution_count": 12,
   "metadata": {},
   "outputs": [
    {
     "ename": "DriverError",
     "evalue": "'../data/plot/background/stlouis' not recognized as a supported file format.",
     "output_type": "error",
     "traceback": [
      "\u001b[0;31m---------------------------------------------------------------------------\u001b[0m",
      "\u001b[0;31mCPLE_OpenFailedError\u001b[0m                      Traceback (most recent call last)",
      "\u001b[0;32mfiona/_shim.pyx\u001b[0m in \u001b[0;36mfiona._shim.gdal_open_vector\u001b[0;34m()\u001b[0m\n",
      "\u001b[0;32mfiona/_err.pyx\u001b[0m in \u001b[0;36mfiona._err.exc_wrap_pointer\u001b[0;34m()\u001b[0m\n",
      "\u001b[0;31mCPLE_OpenFailedError\u001b[0m: '../data/plot/background/stlouis' not recognized as a supported file format.",
      "\nDuring handling of the above exception, another exception occurred:\n",
      "\u001b[0;31mDriverError\u001b[0m                               Traceback (most recent call last)",
      "\u001b[0;32m<ipython-input-12-a946b464794c>\u001b[0m in \u001b[0;36m<module>\u001b[0;34m\u001b[0m\n\u001b[1;32m      1\u001b[0m \u001b[0;31m#city = gpd.read_file(\"../data/plot/background/madison-shp\")\u001b[0m\u001b[0;34m\u001b[0m\u001b[0;34m\u001b[0m\u001b[0;34m\u001b[0m\u001b[0m\n\u001b[1;32m      2\u001b[0m \u001b[0;31m#minneapolis = gpd.read_file(\"../data/minneapolis/minneapolis.shp\")\u001b[0m\u001b[0;34m\u001b[0m\u001b[0;34m\u001b[0m\u001b[0;34m\u001b[0m\u001b[0m\n\u001b[0;32m----> 3\u001b[0;31m \u001b[0mstlouis\u001b[0m \u001b[0;34m=\u001b[0m \u001b[0mgpd\u001b[0m\u001b[0;34m.\u001b[0m\u001b[0mread_file\u001b[0m\u001b[0;34m(\u001b[0m\u001b[0;34m\"../data/plot/background/stlouis\"\u001b[0m\u001b[0;34m)\u001b[0m\u001b[0;34m\u001b[0m\u001b[0;34m\u001b[0m\u001b[0m\n\u001b[0m",
      "\u001b[0;32m~/opt/anaconda3/lib/python3.8/site-packages/geopandas/io/file.py\u001b[0m in \u001b[0;36m_read_file\u001b[0;34m(filename, bbox, mask, rows, **kwargs)\u001b[0m\n\u001b[1;32m    199\u001b[0m \u001b[0;34m\u001b[0m\u001b[0m\n\u001b[1;32m    200\u001b[0m     \u001b[0;32mwith\u001b[0m \u001b[0mfiona_env\u001b[0m\u001b[0;34m(\u001b[0m\u001b[0;34m)\u001b[0m\u001b[0;34m:\u001b[0m\u001b[0;34m\u001b[0m\u001b[0;34m\u001b[0m\u001b[0m\n\u001b[0;32m--> 201\u001b[0;31m         \u001b[0;32mwith\u001b[0m \u001b[0mreader\u001b[0m\u001b[0;34m(\u001b[0m\u001b[0mpath_or_bytes\u001b[0m\u001b[0;34m,\u001b[0m \u001b[0;34m**\u001b[0m\u001b[0mkwargs\u001b[0m\u001b[0;34m)\u001b[0m \u001b[0;32mas\u001b[0m \u001b[0mfeatures\u001b[0m\u001b[0;34m:\u001b[0m\u001b[0;34m\u001b[0m\u001b[0;34m\u001b[0m\u001b[0m\n\u001b[0m\u001b[1;32m    202\u001b[0m \u001b[0;34m\u001b[0m\u001b[0m\n\u001b[1;32m    203\u001b[0m             \u001b[0;31m# In a future Fiona release the crs attribute of features will\u001b[0m\u001b[0;34m\u001b[0m\u001b[0;34m\u001b[0m\u001b[0;34m\u001b[0m\u001b[0m\n",
      "\u001b[0;32m~/opt/anaconda3/lib/python3.8/site-packages/fiona/env.py\u001b[0m in \u001b[0;36mwrapper\u001b[0;34m(*args, **kwargs)\u001b[0m\n\u001b[1;32m    406\u001b[0m     \u001b[0;32mdef\u001b[0m \u001b[0mwrapper\u001b[0m\u001b[0;34m(\u001b[0m\u001b[0;34m*\u001b[0m\u001b[0margs\u001b[0m\u001b[0;34m,\u001b[0m \u001b[0;34m**\u001b[0m\u001b[0mkwargs\u001b[0m\u001b[0;34m)\u001b[0m\u001b[0;34m:\u001b[0m\u001b[0;34m\u001b[0m\u001b[0;34m\u001b[0m\u001b[0m\n\u001b[1;32m    407\u001b[0m         \u001b[0;32mif\u001b[0m \u001b[0mlocal\u001b[0m\u001b[0;34m.\u001b[0m\u001b[0m_env\u001b[0m\u001b[0;34m:\u001b[0m\u001b[0;34m\u001b[0m\u001b[0;34m\u001b[0m\u001b[0m\n\u001b[0;32m--> 408\u001b[0;31m             \u001b[0;32mreturn\u001b[0m \u001b[0mf\u001b[0m\u001b[0;34m(\u001b[0m\u001b[0;34m*\u001b[0m\u001b[0margs\u001b[0m\u001b[0;34m,\u001b[0m \u001b[0;34m**\u001b[0m\u001b[0mkwargs\u001b[0m\u001b[0;34m)\u001b[0m\u001b[0;34m\u001b[0m\u001b[0;34m\u001b[0m\u001b[0m\n\u001b[0m\u001b[1;32m    409\u001b[0m         \u001b[0;32melse\u001b[0m\u001b[0;34m:\u001b[0m\u001b[0;34m\u001b[0m\u001b[0;34m\u001b[0m\u001b[0m\n\u001b[1;32m    410\u001b[0m             \u001b[0;32mif\u001b[0m \u001b[0misinstance\u001b[0m\u001b[0;34m(\u001b[0m\u001b[0margs\u001b[0m\u001b[0;34m[\u001b[0m\u001b[0;36m0\u001b[0m\u001b[0;34m]\u001b[0m\u001b[0;34m,\u001b[0m \u001b[0mstr\u001b[0m\u001b[0;34m)\u001b[0m\u001b[0;34m:\u001b[0m\u001b[0;34m\u001b[0m\u001b[0;34m\u001b[0m\u001b[0m\n",
      "\u001b[0;32m~/opt/anaconda3/lib/python3.8/site-packages/fiona/__init__.py\u001b[0m in \u001b[0;36mopen\u001b[0;34m(fp, mode, driver, schema, crs, encoding, layer, vfs, enabled_drivers, crs_wkt, **kwargs)\u001b[0m\n\u001b[1;32m    254\u001b[0m \u001b[0;34m\u001b[0m\u001b[0m\n\u001b[1;32m    255\u001b[0m         \u001b[0;32mif\u001b[0m \u001b[0mmode\u001b[0m \u001b[0;32min\u001b[0m \u001b[0;34m(\u001b[0m\u001b[0;34m'a'\u001b[0m\u001b[0;34m,\u001b[0m \u001b[0;34m'r'\u001b[0m\u001b[0;34m)\u001b[0m\u001b[0;34m:\u001b[0m\u001b[0;34m\u001b[0m\u001b[0;34m\u001b[0m\u001b[0m\n\u001b[0;32m--> 256\u001b[0;31m             c = Collection(path, mode, driver=driver, encoding=encoding,\n\u001b[0m\u001b[1;32m    257\u001b[0m                            layer=layer, enabled_drivers=enabled_drivers, **kwargs)\n\u001b[1;32m    258\u001b[0m         \u001b[0;32melif\u001b[0m \u001b[0mmode\u001b[0m \u001b[0;34m==\u001b[0m \u001b[0;34m'w'\u001b[0m\u001b[0;34m:\u001b[0m\u001b[0;34m\u001b[0m\u001b[0;34m\u001b[0m\u001b[0m\n",
      "\u001b[0;32m~/opt/anaconda3/lib/python3.8/site-packages/fiona/collection.py\u001b[0m in \u001b[0;36m__init__\u001b[0;34m(self, path, mode, driver, schema, crs, encoding, layer, vsi, archive, enabled_drivers, crs_wkt, ignore_fields, ignore_geometry, **kwargs)\u001b[0m\n\u001b[1;32m    160\u001b[0m             \u001b[0;32mif\u001b[0m \u001b[0mself\u001b[0m\u001b[0;34m.\u001b[0m\u001b[0mmode\u001b[0m \u001b[0;34m==\u001b[0m \u001b[0;34m'r'\u001b[0m\u001b[0;34m:\u001b[0m\u001b[0;34m\u001b[0m\u001b[0;34m\u001b[0m\u001b[0m\n\u001b[1;32m    161\u001b[0m                 \u001b[0mself\u001b[0m\u001b[0;34m.\u001b[0m\u001b[0msession\u001b[0m \u001b[0;34m=\u001b[0m \u001b[0mSession\u001b[0m\u001b[0;34m(\u001b[0m\u001b[0;34m)\u001b[0m\u001b[0;34m\u001b[0m\u001b[0;34m\u001b[0m\u001b[0m\n\u001b[0;32m--> 162\u001b[0;31m                 \u001b[0mself\u001b[0m\u001b[0;34m.\u001b[0m\u001b[0msession\u001b[0m\u001b[0;34m.\u001b[0m\u001b[0mstart\u001b[0m\u001b[0;34m(\u001b[0m\u001b[0mself\u001b[0m\u001b[0;34m,\u001b[0m \u001b[0;34m**\u001b[0m\u001b[0mkwargs\u001b[0m\u001b[0;34m)\u001b[0m\u001b[0;34m\u001b[0m\u001b[0;34m\u001b[0m\u001b[0m\n\u001b[0m\u001b[1;32m    163\u001b[0m             \u001b[0;32melif\u001b[0m \u001b[0mself\u001b[0m\u001b[0;34m.\u001b[0m\u001b[0mmode\u001b[0m \u001b[0;32min\u001b[0m \u001b[0;34m(\u001b[0m\u001b[0;34m'a'\u001b[0m\u001b[0;34m,\u001b[0m \u001b[0;34m'w'\u001b[0m\u001b[0;34m)\u001b[0m\u001b[0;34m:\u001b[0m\u001b[0;34m\u001b[0m\u001b[0;34m\u001b[0m\u001b[0m\n\u001b[1;32m    164\u001b[0m                 \u001b[0mself\u001b[0m\u001b[0;34m.\u001b[0m\u001b[0msession\u001b[0m \u001b[0;34m=\u001b[0m \u001b[0mWritingSession\u001b[0m\u001b[0;34m(\u001b[0m\u001b[0;34m)\u001b[0m\u001b[0;34m\u001b[0m\u001b[0;34m\u001b[0m\u001b[0m\n",
      "\u001b[0;32mfiona/ogrext.pyx\u001b[0m in \u001b[0;36mfiona.ogrext.Session.start\u001b[0;34m()\u001b[0m\n",
      "\u001b[0;32mfiona/_shim.pyx\u001b[0m in \u001b[0;36mfiona._shim.gdal_open_vector\u001b[0;34m()\u001b[0m\n",
      "\u001b[0;31mDriverError\u001b[0m: '../data/plot/background/stlouis' not recognized as a supported file format."
     ]
    }
   ],
   "source": [
    "#city = gpd.read_file(\"../data/plot/background/madison-shp\")\n",
    "#minneapolis = gpd.read_file(\"../data/minneapolis/minneapolis.shp\")\n",
    "stlouis = gpd.read_file(\"../data/plot/background/stlouis\")"
   ]
  },
  {
   "cell_type": "code",
   "execution_count": null,
   "metadata": {},
   "outputs": [],
   "source": [
    "plot_preferred_points(result_gdf=result_gdf, city_gpd=stlouis)"
   ]
  },
  {
   "cell_type": "markdown",
   "metadata": {},
   "source": [
    "# route doubling study"
   ]
  },
  {
   "cell_type": "code",
   "execution_count": null,
   "metadata": {},
   "outputs": [],
   "source": [
    "print(perf_df)"
   ]
  },
  {
   "cell_type": "code",
   "execution_count": null,
   "metadata": {},
   "outputs": [],
   "source": [
    "sc = SCanalyzer(os.path.join('..', 'data', 'stlouis_gtfs.zip'))\n",
    "census_gdf = sc.load_census()\n",
    "services_gdf = sc.load_yelp(api_key=api_key)\n",
    "config = Config(day=\"monday\", elapse_time=\"00:30:00\", interval=\"2:10:00\", max_walking_min=10)\n",
    "config.set_starts(centroids=census_gdf)\n",
    "\n",
    "routes = [ 2,  4,  5,  6,  7,  8, 10, 11, 12, 13, 15, 16, 17, 18, 20, 21, 22,\n",
    "       23, 26, 27, 30, 31, 32, 33, 36, 39, 40, 44, 48, 49, 50, 51, 52, 55,\n",
    "       67, 70, 72, 73, 75, 59, 63, 68, 78, 80, 84, 81, 82]\n",
    "routes = [80]\n",
    "\n",
    "result_folder = os.path.join('.', 'out', 'result')\n",
    "perf_folder = os.path.join('.', 'out', 'perf')\n",
    "if not os.path.exists(result_folder): os.makedirs(result_folder)\n",
    "if not os.path.exists(perf_folder): os.makedirs(perf_folder)\n",
    "\n",
    "for route in routes:\n",
    "    print(route)\n",
    "    sc.gtfs_edit(edit_double, route)\n",
    "    sc.set_batch_label(f\"{route}-double\")\n",
    "    perf_df = pd.DataFrame(\n",
    "            columns=[\"geometry\", \"start_time\", \"search_time\", \"add_service_time\", \"add_census_time\"])\n",
    "    result_gdf = sc.search(config, perf_df)\n",
    "    sc.add_service_metrics(result_gdf, services_gdf, perf_df)\n",
    "    sc.add_demographic_metrics(result_gdf, census_gdf, perf_df)\n",
    "    result_gdf.to_csv(os.path.join('.', 'out', 'result', f'result{route}-double.csv'), index=False)\n",
    "    perf_df.to_csv(os.path.join('.', 'out', 'perf', f'perf{route}-double.csv'), index=False)\n",
    "    break"
   ]
  },
  {
   "cell_type": "code",
   "execution_count": null,
   "metadata": {},
   "outputs": [],
   "source": [
    "sc = SCanalyzer(os.path.join('..', 'data', 'stlouis_gtfs.zip'))\n",
    "census_gdf = sc.load_census()\n",
    "config = Config(day=\"monday\", elapse_time=\"00:30:00\", interval=\"10:00:00\", max_walking_min=10)\n",
    "# config.set_starts(points=[(43.073691, -89.387407), (43.073691, -89.387407)])\n",
    "config.set_starts(centroids=census_gdf)\n",
    "t0 = time.time()\n",
    "result_gdf = sc.search(config)\n",
    "t1 = time.time()\n",
    "print(t1-t0)\n",
    "\n",
    "services_gdf = sc.load_yelp(api_key=api_key)\n",
    "sc.add_service_metrics(result_gdf, services_gdf)\n",
    "t2 = time.time()\n",
    "print(t2-t1)\n",
    "\n",
    "sc.add_demographic_metrics(result_gdf, census_gdf) # SLOW\n",
    "t3 = time.time()\n",
    "print(t3-t2)\n",
    "result_gdf[\"banks\"].sum() #7263.0"
   ]
  },
  {
   "cell_type": "code",
   "execution_count": null,
   "metadata": {},
   "outputs": [],
   "source": [
    "sc.gtfs_edit(edit_double, 80)\n",
    "t0 = time.time()\n",
    "result_gdf = sc.search(config)\n",
    "t1 = time.time()\n",
    "print(t1-t0)\n",
    "\n",
    "services_gdf = sc.load_yelp(api_key=api_key)\n",
    "sc.add_service_metrics(result_gdf, services_gdf)\n",
    "t2 = time.time()\n",
    "print(t2-t1)\n",
    "\n",
    "sc.add_demographic_metrics(result_gdf, census_gdf) # SLOW\n",
    "t3 = time.time()\n",
    "print(t3-t2)\n",
    "result_gdf[\"banks\"].sum() #7263.0"
   ]
  },
  {
   "cell_type": "code",
   "execution_count": null,
   "metadata": {},
   "outputs": [],
   "source": [
    "result = pd.read_csv(os.path.join('.', 'out', 'result', 'result80-double.csv'))\n",
    "result[\"banks\"].sum()"
   ]
  },
  {
   "cell_type": "markdown",
   "metadata": {},
   "source": [
    "# Visualize simulation"
   ]
  },
  {
   "cell_type": "code",
   "execution_count": null,
   "metadata": {},
   "outputs": [],
   "source": [
    "gtfo = SCanalyzer(os.path.join('..', 'data', 'stlouis_gtfs.zip'))\n",
    "ax = plot_background(f\"EPSG:{gtfo.epsg}\")\n",
    "gtfo.set_batch_label(f\"80-rm\")\n",
    "example_gdf = gtfo.load_result_map(map_identifier=\"search-result-0-360!4\")\n",
    "example_gdf.plot(color=\"#ffbfba\", ax=ax)"
   ]
  },
  {
   "cell_type": "code",
   "execution_count": null,
   "metadata": {},
   "outputs": [],
   "source": [
    "temp_df = services_gdf.apply(copy.deepcopy)\n",
    "background_path = os.path.join('..', 'data', 'plot', 'background_stlouis')\n",
    "street = gpd.read_file(os.path.join(background_path, \"streets\")).to_crs(4326)\n",
    "max_lon = street.bounds.maxx.max()\n",
    "min_lon = street.bounds.minx.min()\n",
    "max_lat = street.bounds.maxy.max()\n",
    "min_lat = street.bounds.miny.min()\n",
    "\n",
    "gtfo = SCanalyzer(os.path.join('..', 'data', 'stlouis_gtfs.zip'))\n",
    "ax = plot_background(f\"EPSG:{gtfo.epsg}\")\n",
    "\n",
    "epsg = findEPSG(temp_df['latitude'][0], temp_df['longitude'][0])\n",
    "transformer = Transformer.from_crs(4326, epsg)\n",
    "stop_x, stop_y = transformer.transform(\n",
    "            temp_df['latitude'], temp_df['longitude'])\n",
    "temp_df['stop_x'], temp_df['stop_y'] = stop_x, stop_y\n",
    "temp_df = temp_df[(temp_df['latitude'] < max_lat) & (temp_df['latitude'] > min_lat) & (temp_df['longitude'] < max_lon) & (temp_df['longitude'] > min_lon)]\n",
    "banks = temp_df[temp_df['service'] == 'banks']\n",
    "clinics = temp_df[temp_df['service'] == 'clinics']\n",
    "dentists = temp_df[temp_df['service'] == 'dentists']\n",
    "hospitals = temp_df[temp_df['service'] == 'hospitals']\n",
    "supermarket = temp_df[temp_df['service'] == 'supermarket']\n",
    "banks = gpd.GeoDataFrame(\n",
    "    banks['service'], geometry=gpd.points_from_xy(banks.stop_x, banks.stop_y), crs=\"EPSG:\"+str(epsg))\n",
    "clinics = gpd.GeoDataFrame(\n",
    "    clinics['service'], geometry=gpd.points_from_xy(clinics.stop_x, clinics.stop_y), crs=\"EPSG:\"+str(epsg))\n",
    "dentists = gpd.GeoDataFrame(\n",
    "    dentists['service'], geometry=gpd.points_from_xy(dentists.stop_x, dentists.stop_y), crs=\"EPSG:\"+str(epsg))\n",
    "hospitals = gpd.GeoDataFrame(\n",
    "    hospitals['service'], geometry=gpd.points_from_xy(hospitals.stop_x, hospitals.stop_y), crs=\"EPSG:\"+str(epsg))\n",
    "supermarket = gpd.GeoDataFrame(\n",
    "    supermarket['service'], geometry=gpd.points_from_xy(supermarket.stop_x, supermarket.stop_y), crs=\"EPSG:\"+str(epsg))\n",
    "banks.plot(ax=ax, marker='^')\n",
    "clinics.plot(ax=ax, marker='o')\n",
    "dentists.plot(ax=ax, marker='s')\n",
    "hospitals.plot(ax=ax, marker='*')\n",
    "r = supermarket.plot(ax=ax, marker='d')\n",
    "\n",
    "lineslist = []\n",
    "lineslist.append(lines.Line2D([],[],color=\"white\", markerfacecolor = \"blue\", marker = \"^\", markersize=10, label = \"banks\"))\n",
    "lineslist.append(lines.Line2D([],[],color=\"white\", markerfacecolor = \"orange\", marker = \"o\", markersize=10, label = \"clinics\"))\n",
    "lineslist.append(lines.Line2D([],[],color=\"white\", markerfacecolor = \"green\", marker = \"s\", markersize=10, label = \"dentists\"))\n",
    "lineslist.append(lines.Line2D([],[],color=\"white\", markerfacecolor = \"red\", marker = \"*\", markersize=10, label = \"hospitals\"))\n",
    "lineslist.append(lines.Line2D([],[],color=\"white\", markerfacecolor = \"purple\", marker = \"d\", markersize=10, label = \"supermarket\"))\n",
    "r.legend(handles = lineslist, bbox_to_anchor=(1.00, 1.00), loc=\"upper left\",prop={\"size\": 10})"
   ]
  },
  {
   "cell_type": "markdown",
   "metadata": {},
   "source": [
    "# AWS test"
   ]
  },
  {
   "cell_type": "code",
   "execution_count": null,
   "metadata": {},
   "outputs": [],
   "source": [
    "from SCanalyzer.busSim.manager import managerFactory\n",
    "aws = managerFactory.create(\"aws\", gtfs_path=None, city_path=None, out_path=None)"
   ]
  },
  {
   "cell_type": "code",
   "execution_count": null,
   "metadata": {},
   "outputs": [],
   "source": [
    "aws.clean_up()"
   ]
  },
  {
   "cell_type": "code",
   "execution_count": null,
   "metadata": {},
   "outputs": [],
   "source": [
    "import boto3\n",
    "aws_lambda = boto3.client('lambda', region_name='ap-northeast-1')\n",
    "with open(\"tmp.zip\", 'rb') as f:\n",
    "    response = aws_lambda.create_function(\n",
    "        Code={\n",
    "            'ZipFile': f.read()\n",
    "        },\n",
    "        Description='BusSim handler',\n",
    "        FunctionName=\"test\",\n",
    "        Handler='lambda_function.lambda_handler',\n",
    "        MemorySize=512,\n",
    "        Publish=True,\n",
    "        Role=\"arn:aws:iam::347664766527:role/s3rwRole\",\n",
    "        Runtime='python3.8',\n",
    "        Timeout=900,\n",
    "        TracingConfig={\n",
    "            'Mode': 'Active',\n",
    "        },\n",
    "    )"
   ]
  },
  {
   "cell_type": "code",
   "execution_count": null,
   "metadata": {},
   "outputs": [],
   "source": []
  }
 ],
 "metadata": {
  "interpreter": {
   "hash": "398dc28c06ad810e77de546bbdfa897a6ee0b83e59a5207339dda01a7843e01d"
  },
  "kernelspec": {
   "display_name": "Python 3",
   "language": "python",
   "name": "python3"
  },
  "language_info": {
   "codemirror_mode": {
    "name": "ipython",
    "version": 3
   },
   "file_extension": ".py",
   "mimetype": "text/x-python",
   "name": "python",
   "nbconvert_exporter": "python",
   "pygments_lexer": "ipython3",
   "version": "3.8.5"
  },
  "metadata": {
   "interpreter": {
    "hash": "948cbe787796f35d370cbb3c22a8b7539e249b2486888efe0038f57b4dd2dfbc"
   }
  }
 },
 "nbformat": 4,
 "nbformat_minor": 2
}
