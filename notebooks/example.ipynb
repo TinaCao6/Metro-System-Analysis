{
 "cells": [
  {
   "cell_type": "code",
   "execution_count": 1,
   "metadata": {},
   "outputs": [],
   "source": [
    "from pathlib import Path\n",
    "import sys\n",
    "import yaml\n",
    "import time\n",
    "import os\n",
    "import copy\n",
    "\n",
    "import numpy as np\n",
    "import pandas as pd\n",
    "import geopandas as gpd\n",
    "import matplotlib.pyplot as plt\n",
    "from matplotlib import lines\n",
    "\n",
    "DIR = Path('..')\n",
    "sys.path.insert(0, str(DIR))\n",
    "from SCanalyzer import SCanalyzer\n",
    "from SCanalyzer.busSim import BusSim, Config\n",
    "from SCanalyzer.busSim.manager import managerFactory\n",
    "from SCanalyzer.gtfs_edit import edit_double\n",
    "from SCanalyzer.util import findEPSG\n",
    "from pyproj import Transformer\n",
    "\n",
    "import matplotlib.pyplot as plt\n",
    "from matplotlib import lines\n",
    "\n",
    "import warnings\n",
    "from shapely.errors import ShapelyDeprecationWarning\n",
    "warnings.filterwarnings(\"ignore\", category=ShapelyDeprecationWarning)\n",
    "\n",
    "from shapely import geometry\n",
    "\n",
    "%matplotlib inline"
   ]
  },
  {
   "cell_type": "code",
   "execution_count": 2,
   "metadata": {},
   "outputs": [],
   "source": [
    "def get_yelp_api_key():\n",
    "    with open(\"../config.yml\", 'r') as yml:\n",
    "        cfg = yaml.safe_load(yml)\n",
    "        return cfg[\"yelp\"][\"api_key\"]\n",
    "\n",
    "def plot_background(crs):\n",
    "    background_path = os.path.join('..', 'data', 'plot', 'background')\n",
    "    city = gpd.read_file(os.path.join(background_path, \"madison-meter-shp\")).to_crs(crs)\n",
    "    lakes = gpd.read_file(os.path.join(background_path, \"water-meter-shp\")).to_crs(crs)\n",
    "    street = gpd.read_file(os.path.join(background_path, \"street-meter-shp\")).to_crs(crs)\n",
    "    # city = gpd.read_file(background_path + \"madison-shp\")\n",
    "    # lakes = gpd.read_file(background_path + \"water-shp\")\n",
    "    # street = gpd.read_file(background_path + \"street-shp\")\n",
    "\n",
    "    ax = city.plot(color=\"lightgray\", alpha=.2, figsize=(12, 12), zorder=2)\n",
    "    lakes.plot(color=\"lightblue\", ax=ax, zorder=1, alpha=0.8)\n",
    "    street.plot(color=\"darkgray\", alpha = .5, ax=ax, zorder=3)\n",
    "    return ax"
   ]
  },
  {
   "cell_type": "markdown",
   "metadata": {},
   "source": [
    "# route remove study"
   ]
  },
  {
   "cell_type": "code",
   "execution_count": 3,
   "metadata": {},
   "outputs": [],
   "source": [
    "api_key = 'ZsHZFGtKEZeOOXhTne98eErmfd6BfNTm9GqO2S6inSnWzDwtgC2sEauXcB-8zUna_lXZEal4jsW_St6O0OQOcuNvifrr6uqNYmjFXW-FyVKvaMyczbihWELI80tjYHYx'\n",
    "gtfo = SCanalyzer(os.path.join('..', 'data', 'minneapolist_gtfs.zip'))\n",
    "census_gdf = gtfo.load_census()\n",
    "services_gdf = gtfo.load_yelp(api_key=api_key)"
   ]
  },
  {
   "cell_type": "code",
   "execution_count": 6,
   "metadata": {},
   "outputs": [
    {
     "name": "stdout",
     "output_type": "stream",
     "text": [
      "80\n"
     ]
    },
    {
     "name": "stderr",
     "output_type": "stream",
     "text": [
      "100%|██████████| 834/834 [01:07<00:00, 12.36it/s]\n"
     ]
    }
   ],
   "source": [
    "# routes = [ 2,  4,  5,  6,  7,  8, 10, 11, 12, 13, 15, 16, 17, 18, 20, 21, 22,\n",
    "#        23, 26, 27, 30, 31, 32, 33, 36, 39, 40, 44, 48, 49, 50, 51, 52, 55,\n",
    "#        67, 70, 72, 73, 75, 59, 63, 68, 78, 80, 84, 81, 82]\n",
    "\n",
    "routes = [80]\n",
    "for route in routes:\n",
    "    print(route)\n",
    "    gtfo.set_batch_label(f\"{route}-rm\")\n",
    "    config = Config(day=\"monday\", elapse_time=\"00:20:00\", interval=\"08:00:00\", max_walking_min=10, route_remove=[])\n",
    "    config.set_starts(centroids=census_gdf)\n",
    "\n",
    "    perf_df = pd.DataFrame(\n",
    "            columns=[\"geometry\", \"start_time\", \"search_time\", \"add_service_time\", \"add_census_time\"])\n",
    "    result_gdf = gtfo.search(config, perf_df)\n",
    "    gtfo.add_service_metrics(result_gdf, services_gdf, perf_df)\n",
    "#     gtfo.add_demographic_metrics(result_gdf, census_gdf, perf_df)\n",
    "    result_gdf.to_csv(os.path.join('.', 'out', f'result{route}.csv'), index=False)\n",
    "    perf_df.to_csv(os.path.join('.', 'out', f'perf{route}.csv'), index=False)"
   ]
  },
  {
   "cell_type": "code",
   "execution_count": 7,
   "metadata": {},
   "outputs": [
    {
     "data": {
      "text/html": [
       "<div>\n",
       "<style scoped>\n",
       "    .dataframe tbody tr th:only-of-type {\n",
       "        vertical-align: middle;\n",
       "    }\n",
       "\n",
       "    .dataframe tbody tr th {\n",
       "        vertical-align: top;\n",
       "    }\n",
       "\n",
       "    .dataframe thead th {\n",
       "        text-align: right;\n",
       "    }\n",
       "</style>\n",
       "<table border=\"1\" class=\"dataframe\">\n",
       "  <thead>\n",
       "    <tr style=\"text-align: right;\">\n",
       "      <th></th>\n",
       "      <th>geometry</th>\n",
       "      <th>start_time</th>\n",
       "      <th>map_identifier</th>\n",
       "      <th>banks</th>\n",
       "      <th>clinics</th>\n",
       "      <th>dentists</th>\n",
       "      <th>hospitals</th>\n",
       "      <th>supermarket</th>\n",
       "    </tr>\n",
       "  </thead>\n",
       "  <tbody>\n",
       "    <tr>\n",
       "      <th>0</th>\n",
       "      <td>POINT (-89.6574907174351 43.125585220136365)</td>\n",
       "      <td>0:0:00</td>\n",
       "      <td>search-result-0-0!0</td>\n",
       "      <td>0</td>\n",
       "      <td>0</td>\n",
       "      <td>0</td>\n",
       "      <td>0</td>\n",
       "      <td>0</td>\n",
       "    </tr>\n",
       "    <tr>\n",
       "      <th>1</th>\n",
       "      <td>POINT (-89.5841046803898 42.9977144585)</td>\n",
       "      <td>0:0:00</td>\n",
       "      <td>search-result-0-0!1</td>\n",
       "      <td>0</td>\n",
       "      <td>0</td>\n",
       "      <td>0</td>\n",
       "      <td>0</td>\n",
       "      <td>0</td>\n",
       "    </tr>\n",
       "    <tr>\n",
       "      <th>2</th>\n",
       "      <td>POINT (-89.5248067338074 43.0440282770501)</td>\n",
       "      <td>0:0:00</td>\n",
       "      <td>search-result-0-0!2</td>\n",
       "      <td>0</td>\n",
       "      <td>0</td>\n",
       "      <td>0</td>\n",
       "      <td>0</td>\n",
       "      <td>0</td>\n",
       "    </tr>\n",
       "    <tr>\n",
       "      <th>3</th>\n",
       "      <td>POINT (-89.52461125108377 43.02680593102333)</td>\n",
       "      <td>0:0:00</td>\n",
       "      <td>search-result-0-0!3</td>\n",
       "      <td>0</td>\n",
       "      <td>0</td>\n",
       "      <td>0</td>\n",
       "      <td>0</td>\n",
       "      <td>0</td>\n",
       "    </tr>\n",
       "    <tr>\n",
       "      <th>4</th>\n",
       "      <td>POINT (-89.51016191651111 43.047969590699104)</td>\n",
       "      <td>0:0:00</td>\n",
       "      <td>search-result-0-0!4</td>\n",
       "      <td>0</td>\n",
       "      <td>0</td>\n",
       "      <td>0</td>\n",
       "      <td>0</td>\n",
       "      <td>0</td>\n",
       "    </tr>\n",
       "    <tr>\n",
       "      <th>...</th>\n",
       "      <td>...</td>\n",
       "      <td>...</td>\n",
       "      <td>...</td>\n",
       "      <td>...</td>\n",
       "      <td>...</td>\n",
       "      <td>...</td>\n",
       "      <td>...</td>\n",
       "      <td>...</td>\n",
       "    </tr>\n",
       "    <tr>\n",
       "      <th>829</th>\n",
       "      <td>POINT (-89.25433359919091 43.179416969969466)</td>\n",
       "      <td>16:0:00</td>\n",
       "      <td>search-result-0-960!273</td>\n",
       "      <td>0</td>\n",
       "      <td>0</td>\n",
       "      <td>0</td>\n",
       "      <td>0</td>\n",
       "      <td>0</td>\n",
       "    </tr>\n",
       "    <tr>\n",
       "      <th>830</th>\n",
       "      <td>POINT (-89.22025804318837 43.18544080303249)</td>\n",
       "      <td>16:0:00</td>\n",
       "      <td>search-result-0-960!274</td>\n",
       "      <td>0</td>\n",
       "      <td>0</td>\n",
       "      <td>0</td>\n",
       "      <td>0</td>\n",
       "      <td>0</td>\n",
       "    </tr>\n",
       "    <tr>\n",
       "      <th>831</th>\n",
       "      <td>POINT (-89.23124966766358 43.05574718320672)</td>\n",
       "      <td>16:0:00</td>\n",
       "      <td>search-result-0-960!275</td>\n",
       "      <td>0</td>\n",
       "      <td>0</td>\n",
       "      <td>0</td>\n",
       "      <td>0</td>\n",
       "      <td>0</td>\n",
       "    </tr>\n",
       "    <tr>\n",
       "      <th>832</th>\n",
       "      <td>POINT (-89.19161761144781 43.2131856539325)</td>\n",
       "      <td>16:0:00</td>\n",
       "      <td>search-result-0-960!276</td>\n",
       "      <td>0</td>\n",
       "      <td>0</td>\n",
       "      <td>0</td>\n",
       "      <td>0</td>\n",
       "      <td>0</td>\n",
       "    </tr>\n",
       "    <tr>\n",
       "      <th>833</th>\n",
       "      <td>POINT (-89.19791660630938 42.98254107176307)</td>\n",
       "      <td>16:0:00</td>\n",
       "      <td>search-result-0-960!277</td>\n",
       "      <td>0</td>\n",
       "      <td>0</td>\n",
       "      <td>0</td>\n",
       "      <td>0</td>\n",
       "      <td>0</td>\n",
       "    </tr>\n",
       "  </tbody>\n",
       "</table>\n",
       "<p>834 rows × 8 columns</p>\n",
       "</div>"
      ],
      "text/plain": [
       "                                          geometry start_time  \\\n",
       "0     POINT (-89.6574907174351 43.125585220136365)     0:0:00   \n",
       "1          POINT (-89.5841046803898 42.9977144585)     0:0:00   \n",
       "2       POINT (-89.5248067338074 43.0440282770501)     0:0:00   \n",
       "3     POINT (-89.52461125108377 43.02680593102333)     0:0:00   \n",
       "4    POINT (-89.51016191651111 43.047969590699104)     0:0:00   \n",
       "..                                             ...        ...   \n",
       "829  POINT (-89.25433359919091 43.179416969969466)    16:0:00   \n",
       "830   POINT (-89.22025804318837 43.18544080303249)    16:0:00   \n",
       "831   POINT (-89.23124966766358 43.05574718320672)    16:0:00   \n",
       "832    POINT (-89.19161761144781 43.2131856539325)    16:0:00   \n",
       "833   POINT (-89.19791660630938 42.98254107176307)    16:0:00   \n",
       "\n",
       "              map_identifier  banks  clinics  dentists  hospitals  supermarket  \n",
       "0        search-result-0-0!0      0        0         0          0            0  \n",
       "1        search-result-0-0!1      0        0         0          0            0  \n",
       "2        search-result-0-0!2      0        0         0          0            0  \n",
       "3        search-result-0-0!3      0        0         0          0            0  \n",
       "4        search-result-0-0!4      0        0         0          0            0  \n",
       "..                       ...    ...      ...       ...        ...          ...  \n",
       "829  search-result-0-960!273      0        0         0          0            0  \n",
       "830  search-result-0-960!274      0        0         0          0            0  \n",
       "831  search-result-0-960!275      0        0         0          0            0  \n",
       "832  search-result-0-960!276      0        0         0          0            0  \n",
       "833  search-result-0-960!277      0        0         0          0            0  \n",
       "\n",
       "[834 rows x 8 columns]"
      ]
     },
     "execution_count": 7,
     "metadata": {},
     "output_type": "execute_result"
    }
   ],
   "source": [
    "result_gdf"
   ]
  },
  {
   "cell_type": "code",
   "execution_count": null,
   "metadata": {},
   "outputs": [],
   "source": [
    "def get_score(area, banks=0, clinics=0, dentists=0, hospitals=0, supermarkets=0):\n",
    "    x6 = 1\n",
    "    if banks == 0:\n",
    "        x6 = x6/2\n",
    "    if supermarkets == 0:\n",
    "        x6 = x6/2\n",
    "    if hospitals == 0:\n",
    "        x6 = x6/2\n",
    "    if clinics == 0:\n",
    "        x6 = x6/2\n",
    "    if dentists == 0:\n",
    "        x6 = x6/2\n",
    "    score = (area + banks + clinics + hospitals + dentists + supermarkets) * x6\n",
    "    return score"
   ]
  },
  {
   "cell_type": "code",
   "execution_count": null,
   "metadata": {},
   "outputs": [],
   "source": [
    "gpd.GeoSeries(result_gdf['geometry']).plot()"
   ]
  },
  {
   "cell_type": "code",
   "execution_count": null,
   "metadata": {},
   "outputs": [],
   "source": [
    "polys = [[p.x, p.y] for p in result_gdf['geometry']]\n",
    "ax = gpd.GeoSeries(geometry.Polygon(polys).convex_hull).plot(color=\"lightgrey\", alpha=0.5)"
   ]
  },
  {
   "cell_type": "code",
   "execution_count": null,
   "metadata": {},
   "outputs": [],
   "source": [
    "def plot_preferred_points(result_gdf, city_gpd=None):\n",
    "    if city_gpd is None:\n",
    "        polys = [[p.x, p.y] for p in result_gdf['geometry']]\n",
    "        ax = gpd.GeoSeries(geometry.Polygon(polys).convex_hull).plot(color=\"lightgrey\", alpha=0.5)\n",
    "    else:\n",
    "        ax = city_gpd.plot(color=\"grey\", alpha=0.5)\n",
    "    result_gdf['score'] = result_gdf.apply(axis=1, func=lambda row: get_score(0, row['banks'], row['clinics'], row['dentists'], row['hospitals'], row['supermarket']))\n",
    "    results = result_gdf[result_gdf['score'] != 0].sort_values('score')\n",
    "    points_low = results.head(10)\n",
    "    points_high = results.tail(10)\n",
    "    gpd.GeoSeries(points_low['geometry']).plot(ax=ax, color=\"red\")\n",
    "    gpd.GeoSeries(points_high['geometry']).plot(ax=ax, color=\"green\")\n",
    "    points = {\"low\": [(p.y, p.x) for p in points_low['geometry']],\n",
    "    \"high\": [(p.y, p.x) for p in points_high['geometry']]}\n",
    "\n",
    "    lineslist = []\n",
    "    lineslist.append(lines.Line2D([],[],color=\"white\", markerfacecolor = \"red\", marker = \"o\", markersize=10, label = \"low score\"))\n",
    "    lineslist.append(lines.Line2D([],[],color=\"white\", markerfacecolor = \"green\", marker = \"o\", markersize=10, label = \"high score\"))\n",
    "    ax.legend(handles = lineslist, loc=\"upper left\",prop={\"size\": 10})\n",
    "    plt.axis(\"off\")\n",
    "    plt.savefig(\"Madison_startpoints.png\", dpi=300, bbox_inches=\"tight\")\n",
    "    print(points)\n"
   ]
  },
  {
   "cell_type": "code",
   "execution_count": null,
   "metadata": {},
   "outputs": [],
   "source": [
    "city = gpd.read_file(\"../data/plot/background/madison-shp\")\n",
    "minneapolis = gpd.read_file(\"../data/minneapolis/minneapolis.shp\")\n",
    "lansing = gpd.read_file(\"../data/lansing/lansing.shp\").to_crs(4326)\n",
    "st_louis = gpd.read_file(\"../data/stlouis/stlouis.shp\").to_crs(4326)"
   ]
  },
  {
   "cell_type": "code",
   "execution_count": null,
   "metadata": {},
   "outputs": [],
   "source": [
    "minneapolis.plot()"
   ]
  },
  {
   "cell_type": "code",
   "execution_count": null,
   "metadata": {},
   "outputs": [],
   "source": [
    "st_louis.plot()"
   ]
  },
  {
   "cell_type": "code",
   "execution_count": null,
   "metadata": {},
   "outputs": [],
   "source": [
    "plot_preferred_points(result_gdf=result_gdf, city_gpd = minneapolis)"
   ]
  },
  {
   "cell_type": "markdown",
   "metadata": {},
   "source": [
    "# route doubling study"
   ]
  },
  {
   "cell_type": "code",
   "execution_count": null,
   "metadata": {},
   "outputs": [],
   "source": [
    "print(perf_df)"
   ]
  },
  {
   "cell_type": "code",
   "execution_count": null,
   "metadata": {},
   "outputs": [],
   "source": [
    "sc = SCanalyzer(os.path.join('..', 'data', 'mmt_gtfs.zip'))\n",
    "census_gdf = sc.load_census()\n",
    "services_gdf = sc.load_yelp(api_key=api_key)\n",
    "config = Config(day=\"monday\", elapse_time=\"00:30:00\", interval=\"2:10:00\", max_walking_min=10)\n",
    "config.set_starts(centroids=census_gdf)\n",
    "\n",
    "routes = [ 2,  4,  5,  6,  7,  8, 10, 11, 12, 13, 15, 16, 17, 18, 20, 21, 22,\n",
    "       23, 26, 27, 30, 31, 32, 33, 36, 39, 40, 44, 48, 49, 50, 51, 52, 55,\n",
    "       67, 70, 72, 73, 75, 59, 63, 68, 78, 80, 84, 81, 82]\n",
    "routes = [80]\n",
    "\n",
    "result_folder = os.path.join('.', 'out', 'result')\n",
    "perf_folder = os.path.join('.', 'out', 'perf')\n",
    "if not os.path.exists(result_folder): os.makedirs(result_folder)\n",
    "if not os.path.exists(perf_folder): os.makedirs(perf_folder)\n",
    "\n",
    "for route in routes:\n",
    "    print(route)\n",
    "    sc.gtfs_edit(edit_double, route)\n",
    "    sc.set_batch_label(f\"{route}-double\")\n",
    "    perf_df = pd.DataFrame(\n",
    "            columns=[\"geometry\", \"start_time\", \"search_time\", \"add_service_time\", \"add_census_time\"])\n",
    "    result_gdf = sc.search(config, perf_df)\n",
    "    sc.add_service_metrics(result_gdf, services_gdf, perf_df)\n",
    "    sc.add_demographic_metrics(result_gdf, census_gdf, perf_df)\n",
    "    result_gdf.to_csv(os.path.join('.', 'out', 'result', f'result{route}-double.csv'), index=False)\n",
    "    perf_df.to_csv(os.path.join('.', 'out', 'perf', f'perf{route}-double.csv'), index=False)\n",
    "    break"
   ]
  },
  {
   "cell_type": "code",
   "execution_count": null,
   "metadata": {},
   "outputs": [],
   "source": [
    "sc = SCanalyzer(os.path.join('..', 'data', 'mmt_gtfs.zip'))\n",
    "census_gdf = sc.load_census()\n",
    "config = Config(day=\"monday\", elapse_time=\"00:30:00\", interval=\"10:00:00\", max_walking_min=10)\n",
    "# config.set_starts(points=[(43.073691, -89.387407), (43.073691, -89.387407)])\n",
    "config.set_starts(centroids=census_gdf)\n",
    "t0 = time.time()\n",
    "result_gdf = sc.search(config)\n",
    "t1 = time.time()\n",
    "print(t1-t0)\n",
    "\n",
    "services_gdf = sc.load_yelp(api_key=api_key)\n",
    "sc.add_service_metrics(result_gdf, services_gdf)\n",
    "t2 = time.time()\n",
    "print(t2-t1)\n",
    "\n",
    "sc.add_demographic_metrics(result_gdf, census_gdf) # SLOW\n",
    "t3 = time.time()\n",
    "print(t3-t2)\n",
    "result_gdf[\"banks\"].sum() #7263.0"
   ]
  },
  {
   "cell_type": "code",
   "execution_count": null,
   "metadata": {},
   "outputs": [],
   "source": [
    "sc.gtfs_edit(edit_double, 80)\n",
    "t0 = time.time()\n",
    "result_gdf = sc.search(config)\n",
    "t1 = time.time()\n",
    "print(t1-t0)\n",
    "\n",
    "services_gdf = sc.load_yelp(api_key=api_key)\n",
    "sc.add_service_metrics(result_gdf, services_gdf)\n",
    "t2 = time.time()\n",
    "print(t2-t1)\n",
    "\n",
    "sc.add_demographic_metrics(result_gdf, census_gdf) # SLOW\n",
    "t3 = time.time()\n",
    "print(t3-t2)\n",
    "result_gdf[\"banks\"].sum() #7263.0"
   ]
  },
  {
   "cell_type": "code",
   "execution_count": null,
   "metadata": {},
   "outputs": [],
   "source": [
    "result = pd.read_csv(os.path.join('.', 'out', 'result', 'result80-double.csv'))\n",
    "result[\"banks\"].sum()"
   ]
  },
  {
   "cell_type": "markdown",
   "metadata": {},
   "source": [
    "# Visualize simulation"
   ]
  },
  {
   "cell_type": "code",
   "execution_count": null,
   "metadata": {},
   "outputs": [],
   "source": [
    "gtfo = SCanalyzer(os.path.join('..', 'data', 'mmt_gtfs.zip'))\n",
    "ax = plot_background(f\"EPSG:{gtfo.epsg}\")\n",
    "gtfo.set_batch_label(f\"80-rm\")\n",
    "example_gdf = gtfo.load_result_map(map_identifier=\"search-result-0-360!4\")\n",
    "example_gdf.plot(color=\"#ffbfba\", ax=ax)"
   ]
  },
  {
   "cell_type": "code",
   "execution_count": null,
   "metadata": {},
   "outputs": [],
   "source": [
    "temp_df = services_gdf.apply(copy.deepcopy)\n",
    "background_path = os.path.join('..', 'data', 'plot', 'background')\n",
    "street = gpd.read_file(os.path.join(background_path, \"street-meter-shp\")).to_crs(4326)\n",
    "max_lon = street.bounds.maxx.max()\n",
    "min_lon = street.bounds.minx.min()\n",
    "max_lat = street.bounds.maxy.max()\n",
    "min_lat = street.bounds.miny.min()\n",
    "\n",
    "gtfo = SCanalyzer(os.path.join('..', 'data', 'mmt_gtfs.zip'))\n",
    "ax = plot_background(f\"EPSG:{gtfo.epsg}\")\n",
    "\n",
    "epsg = findEPSG(temp_df['latitude'][0], temp_df['longitude'][0])\n",
    "transformer = Transformer.from_crs(4326, epsg)\n",
    "stop_x, stop_y = transformer.transform(\n",
    "            temp_df['latitude'], temp_df['longitude'])\n",
    "temp_df['stop_x'], temp_df['stop_y'] = stop_x, stop_y\n",
    "temp_df = temp_df[(temp_df['latitude'] < max_lat) & (temp_df['latitude'] > min_lat) & (temp_df['longitude'] < max_lon) & (temp_df['longitude'] > min_lon)]\n",
    "banks = temp_df[temp_df['service'] == 'banks']\n",
    "clinics = temp_df[temp_df['service'] == 'clinics']\n",
    "dentists = temp_df[temp_df['service'] == 'dentists']\n",
    "hospitals = temp_df[temp_df['service'] == 'hospitals']\n",
    "supermarket = temp_df[temp_df['service'] == 'supermarket']\n",
    "banks = gpd.GeoDataFrame(\n",
    "    banks['service'], geometry=gpd.points_from_xy(banks.stop_x, banks.stop_y), crs=\"EPSG:\"+str(epsg))\n",
    "clinics = gpd.GeoDataFrame(\n",
    "    clinics['service'], geometry=gpd.points_from_xy(clinics.stop_x, clinics.stop_y), crs=\"EPSG:\"+str(epsg))\n",
    "dentists = gpd.GeoDataFrame(\n",
    "    dentists['service'], geometry=gpd.points_from_xy(dentists.stop_x, dentists.stop_y), crs=\"EPSG:\"+str(epsg))\n",
    "hospitals = gpd.GeoDataFrame(\n",
    "    hospitals['service'], geometry=gpd.points_from_xy(hospitals.stop_x, hospitals.stop_y), crs=\"EPSG:\"+str(epsg))\n",
    "supermarket = gpd.GeoDataFrame(\n",
    "    supermarket['service'], geometry=gpd.points_from_xy(supermarket.stop_x, supermarket.stop_y), crs=\"EPSG:\"+str(epsg))\n",
    "banks.plot(ax=ax, marker='^')\n",
    "clinics.plot(ax=ax, marker='o')\n",
    "dentists.plot(ax=ax, marker='s')\n",
    "hospitals.plot(ax=ax, marker='*')\n",
    "r = supermarket.plot(ax=ax, marker='d')\n",
    "\n",
    "lineslist = []\n",
    "lineslist.append(lines.Line2D([],[],color=\"white\", markerfacecolor = \"blue\", marker = \"^\", markersize=10, label = \"banks\"))\n",
    "lineslist.append(lines.Line2D([],[],color=\"white\", markerfacecolor = \"orange\", marker = \"o\", markersize=10, label = \"clinics\"))\n",
    "lineslist.append(lines.Line2D([],[],color=\"white\", markerfacecolor = \"green\", marker = \"s\", markersize=10, label = \"dentists\"))\n",
    "lineslist.append(lines.Line2D([],[],color=\"white\", markerfacecolor = \"red\", marker = \"*\", markersize=10, label = \"hospitals\"))\n",
    "lineslist.append(lines.Line2D([],[],color=\"white\", markerfacecolor = \"purple\", marker = \"d\", markersize=10, label = \"supermarket\"))\n",
    "r.legend(handles = lineslist, bbox_to_anchor=(1.00, 1.00), loc=\"upper left\",prop={\"size\": 10})"
   ]
  },
  {
   "cell_type": "markdown",
   "metadata": {},
   "source": [
    "# AWS test"
   ]
  },
  {
   "cell_type": "code",
   "execution_count": null,
   "metadata": {},
   "outputs": [],
   "source": [
    "from SCanalyzer.busSim.manager import managerFactory\n",
    "aws = managerFactory.create(\"aws\", gtfs_path=None, city_path=None, out_path=None)"
   ]
  },
  {
   "cell_type": "code",
   "execution_count": null,
   "metadata": {},
   "outputs": [],
   "source": [
    "aws.clean_up()"
   ]
  },
  {
   "cell_type": "code",
   "execution_count": null,
   "metadata": {},
   "outputs": [],
   "source": [
    "import boto3\n",
    "aws_lambda = boto3.client('lambda', region_name='ap-northeast-1')\n",
    "with open(\"tmp.zip\", 'rb') as f:\n",
    "    response = aws_lambda.create_function(\n",
    "        Code={\n",
    "            'ZipFile': f.read()\n",
    "        },\n",
    "        Description='BusSim handler',\n",
    "        FunctionName=\"test\",\n",
    "        Handler='lambda_function.lambda_handler',\n",
    "        MemorySize=512,\n",
    "        Publish=True,\n",
    "        Role=\"arn:aws:iam::347664766527:role/s3rwRole\",\n",
    "        Runtime='python3.8',\n",
    "        Timeout=900,\n",
    "        TracingConfig={\n",
    "            'Mode': 'Active',\n",
    "        },\n",
    "    )"
   ]
  },
  {
   "cell_type": "code",
   "execution_count": null,
   "metadata": {},
   "outputs": [],
   "source": []
  }
 ],
 "metadata": {
  "interpreter": {
   "hash": "b0fa6594d8f4cbf19f97940f81e996739fb7646882a419484c72d19e05852a7e"
  },
  "kernelspec": {
   "display_name": "Python 3.9.12 64-bit",
   "language": "python",
   "name": "python3"
  },
  "language_info": {
   "codemirror_mode": {
    "name": "ipython",
    "version": 3
   },
   "file_extension": ".py",
   "mimetype": "text/x-python",
   "name": "python",
   "nbconvert_exporter": "python",
   "pygments_lexer": "ipython3",
   "version": "3.9.12"
  },
  "metadata": {
   "interpreter": {
    "hash": "948cbe787796f35d370cbb3c22a8b7539e249b2486888efe0038f57b4dd2dfbc"
   }
  }
 },
 "nbformat": 4,
 "nbformat_minor": 2
}
