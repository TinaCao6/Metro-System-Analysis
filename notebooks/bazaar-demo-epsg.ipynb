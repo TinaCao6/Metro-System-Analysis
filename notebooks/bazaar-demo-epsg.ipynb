{
 "cells": [
  {
   "cell_type": "code",
   "execution_count": 1,
   "metadata": {},
   "outputs": [],
   "source": [
    "from pathlib import Path\n",
    "import os, sys\n",
    "from geopy.geocoders import GoogleV3, Nominatim\n",
    "import geopandas as gpd\n",
    "import pandas as pd\n",
    "\n",
    "DIR = Path('..')\n",
    "sys.path.insert(0, str(DIR))\n",
    "from SCanalyzer import SCanalyzer\n",
    "from SCanalyzer.busSim import BusSim\n",
    "from SCanalyzer.busSim.manager import LocalManager\n",
    "from shapely.geometry import Point\n",
    "from matplotlib.lines import Line2D"
   ]
  },
  {
   "cell_type": "code",
   "execution_count": 2,
   "metadata": {},
   "outputs": [],
   "source": [
    "%matplotlib inline"
   ]
  },
  {
   "cell_type": "code",
   "execution_count": 11,
   "metadata": {},
   "outputs": [
    {
     "name": "stdout",
     "output_type": "stream",
     "text": [
      "calendar.txt\n",
      "routes.txt\n",
      "shapes.txt\n",
      "stop_times.txt\n",
      "__MACOSX/._stop_times.txt\n",
      "stops.txt\n",
      "trips.txt\n",
      "stops.txt\n",
      "new Stops df    stop_id   stop_name   stop_lat  stop_lon         stop_x        stop_y\n",
      "0        1  Strawberry  48.850317  2.346295  452043.423262  5.411022e+06\n",
      "1        2   Tangerine  48.853789  2.349471  452279.698066  5.411406e+06\n",
      "2        3  Watermelon  48.856077  2.356252  452779.247146  5.411656e+06\n",
      "calendar.txt\n",
      "routes.txt\n",
      "shapes.txt\n",
      "stop_times.txt\n",
      "__MACOSX/._stop_times.txt\n",
      "stops.txt\n",
      "trips.txt\n",
      "trips.txt\n",
      "calendar.txt\n",
      "routes.txt\n",
      "shapes.txt\n",
      "stop_times.txt\n",
      "__MACOSX/._stop_times.txt\n",
      "stops.txt\n",
      "trips.txt\n",
      "stop_times.txt\n",
      "calendar.txt\n",
      "routes.txt\n",
      "shapes.txt\n",
      "stop_times.txt\n",
      "__MACOSX/._stop_times.txt\n",
      "stops.txt\n",
      "trips.txt\n",
      "calendar.txt\n"
     ]
    }
   ],
   "source": [
    "DATA_PATH = \"../data/Archive.zip\"\n",
    "OUT_PATH = \"/tmp/output\"\n",
    "DAY = \"monday\"\n",
    "START_TIME = \"09:30:00\"\n",
    "ELAPSE_TIME = \"04:00:00\"\n",
    "AVG_WALKING_SPEED = 1.4 # 1.4 meters per second\n",
    "MAX_WALKING_MIN = 8\n",
    "geolocator = Nominatim(user_agent=\"wisc_bazarr_demo\")\n",
    "manager = LocalManager(DATA_PATH, OUT_PATH, None)\n",
    "busSim = BusSim(manager, DAY, START_TIME, ELAPSE_TIME, AVG_WALKING_SPEED, MAX_WALKING_MIN)"
   ]
  },
  {
   "cell_type": "code",
   "execution_count": null,
   "metadata": {},
   "outputs": [],
   "source": []
  },
  {
   "cell_type": "code",
   "execution_count": 12,
   "metadata": {},
   "outputs": [],
   "source": [
    "def flatten(s):\n",
    "    return gpd.GeoDataFrame({\"geometry\": gpd.GeoSeries([s.unary_union])})"
   ]
  },
  {
   "cell_type": "code",
   "execution_count": 13,
   "metadata": {},
   "outputs": [],
   "source": [
    "def plot(starts=[]):      \n",
    "\n",
    "    leg_lines = []\n",
    "    leg_text = []\n",
    "    \n",
    "    colors = [\"orange\", \"blue\", \"green\", \"yellow\"]\n",
    "    \n",
    "    zorder = 4\n",
    "    \n",
    "    bubbles = []\n",
    "    \n",
    "    for i, addr in enumerate(starts):\n",
    "        zorder += 10\n",
    "        location = geolocator.geocode(addr)\n",
    "        lat, lon = (48.850317,2.346295)\n",
    "\n",
    "        gdf = busSim.get_gdf(start_point=(lat, lon))\n",
    "        print(gdf.crs)\n",
    "        gdf = gdf.to_crs(epsg=4326)\n",
    "        \n",
    "        color = colors[i % len(colors)]\n",
    "        bubble = gdf\n",
    "        bubble[\"color\"] = color\n",
    "        bubbles.append(bubble)\n",
    "        ax=bubble.boundary.plot(color=color, linewidth=2, zorder=zorder+2)\n",
    "        gdf[\"geometry\"].to_crs('+proj=cea').centroid.to_crs(gdf.crs).plot(color=\"black\", ax=ax, markersize=2, zorder=zorder+3)\n",
    "        #gdf[\"geometry\"].centroid.plot(color=\"black\", ax=ax, markersize=2, zorder=zorder+3)\n",
    "        start = gpd.GeoSeries([Point(lon, lat)])\n",
    "        start.plot(ax = ax, marker='o', color=\"black\", markersize=160, zorder=100)\n",
    "        \n",
    "        leg_lines.append(Line2D([0], [0], color=color, lw=4))\n",
    "        leg_text.append(addr)\n",
    "        \n",
    "    df = pd.concat(bubbles)\n",
    "    df.plot(alpha=0.1, ax=ax, color=df[\"color\"], zorder=zorder)\n",
    "\n",
    "    leg = ax.legend(leg_lines, leg_text, prop={\"size\": 18}, loc=\"upper left\")\n",
    "    leg.get_frame().set_facecolor(\"white\")\n",
    "    leg.get_frame().set_edgecolor(\"white\")\n",
    "\n",
    "    ax.set_axis_off()\n",
    "    #print(f'new Stops df {stops_df}')\n",
    "def demo(addrs_str):\n",
    "    plot([s.strip() for s in addrs_str.split(\"\\n\") if s.strip() != \"\"])"
   ]
  },
  {
   "cell_type": "code",
   "execution_count": 14,
   "metadata": {},
   "outputs": [
    {
     "name": "stdout",
     "output_type": "stream",
     "text": [
      "EPSG:32631\n"
     ]
    },
    {
     "data": {
      "image/png": "[encoded data removed]",
      "text/plain": [
       "<Figure size 432x288 with 1 Axes>"
      ]
     },
     "metadata": {
      "needs_background": "light"
     },
     "output_type": "display_data"
    }
   ],
   "source": [
    "demo(\"\"\"\n",
    "Chapitre 20\n",
    "\"\"\")"
   ]
  },
  {
   "cell_type": "code",
   "execution_count": null,
   "metadata": {},
   "outputs": [],
   "source": []
  },
  {
   "cell_type": "code",
   "execution_count": null,
   "metadata": {},
   "outputs": [],
   "source": []
  }
 ],
 "metadata": {
  "kernelspec": {
   "display_name": "Python 3",
   "language": "python",
   "name": "python3"
  },
  "language_info": {
   "codemirror_mode": {
    "name": "ipython",
    "version": 3
   },
   "file_extension": ".py",
   "mimetype": "text/x-python",
   "name": "python",
   "nbconvert_exporter": "python",
   "pygments_lexer": "ipython3",
   "version": "3.8.5"
  }
 },
 "nbformat": 4,
 "nbformat_minor": 4
}
