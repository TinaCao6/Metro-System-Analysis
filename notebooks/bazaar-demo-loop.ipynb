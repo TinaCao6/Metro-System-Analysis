{
 "cells": [
  {
   "cell_type": "code",
   "execution_count": null,
   "metadata": {},
   "outputs": [],
   "source": [
    "from pathlib import Path\n",
    "import os, sys\n",
    "from geopy.geocoders import GoogleV3, Nominatim\n",
    "import geopandas as gpd\n",
    "import pandas as pd\n",
    "\n",
    "DIR = Path('..')\n",
    "sys.path.insert(0, str(DIR))\n",
    "from SCanalyzer import SCanalyzer\n",
    "from SCanalyzer.busSim import BusSim\n",
    "from SCanalyzer.busSim.manager import LocalManager\n",
    "from shapely.geometry import Point\n",
    "from matplotlib.lines import Line2D"
   ]
  },
  {
   "cell_type": "code",
   "execution_count": null,
   "metadata": {},
   "outputs": [],
   "source": [
    "%matplotlib inline"
   ]
  },
  {
   "cell_type": "code",
   "execution_count": null,
   "metadata": {},
   "outputs": [],
   "source": [
    "DATA_PATH = \"../data/loop_gtfs.zip\"\n",
    "OUT_PATH = \"/tmp/output\"\n",
    "DAY = \"monday\"\n",
    "START_TIME = \"10:00:00\"\n",
    "ELAPSE_TIME = \"04:00:00\"\n",
    "AVG_WALKING_SPEED = 1.4 # 1.4 meters per second\n",
    "MAX_WALKING_MIN = 8\n",
    "city = gpd.read_file(\"../data/plot/background/madison-shp\")\n",
    "print(city.crs)\n",
    "lakes = gpd.read_file(\"../data/plot/background/water-shp\")\n",
    "print(lakes.crs)\n",
    "street = gpd.read_file(\"../data/plot/background/street-shp\")\n",
    "print(street.crs)\n",
    "max_lon = city.bounds.maxx.max()\n",
    "min_lon = city.bounds.minx.min()\n",
    "max_lat = city.bounds.maxy.max()\n",
    "min_lat = city.bounds.miny.min()\n",
    "geolocator = Nominatim(user_agent=\"wisc_bazarr_demo\")\n",
    "sc = SCanalyzer(DATA_PATH)\n",
    "manager = LocalManager(DATA_PATH, OUT_PATH, None)\n",
    "busSim = BusSim(manager, DAY, START_TIME, ELAPSE_TIME, AVG_WALKING_SPEED, MAX_WALKING_MIN)"
   ]
  },
  {
   "cell_type": "code",
   "execution_count": null,
   "metadata": {},
   "outputs": [],
   "source": [
    "cache = {}\n",
    "def geocode(addr):\n",
    "    if not \"madison\" in addr.lower():\n",
    "        addr += \", Madison WI\"\n",
    "    if not addr in cache:\n",
    "        cache[addr] = geolocator.geocode(addr)\n",
    "    return cache[addr]"
   ]
  },
  {
   "cell_type": "code",
   "execution_count": null,
   "metadata": {},
   "outputs": [],
   "source": [
    "def flatten(s):\n",
    "    return gpd.GeoDataFrame({\"geometry\": gpd.GeoSeries([s.unary_union])})"
   ]
  },
  {
   "cell_type": "code",
   "execution_count": null,
   "metadata": {},
   "outputs": [],
   "source": [
    "def plot(starts=[]):      \n",
    "    ax = lakes.boundary.plot(color=\"lightblue\", zorder=1, linewidth=2, figsize=(16, 16))\n",
    "    lakes.plot(color=\"lightblue\", ax=ax, alpha=0.2, zorder=1)\n",
    "    city.plot(color=\"black\", alpha=0.05, ax=ax, zorder=2)\n",
    "    street.plot(color=\"black\", alpha=0.03, ax=ax, zorder=3)\n",
    "\n",
    "    leg_lines = []\n",
    "    leg_text = []\n",
    "    \n",
    "    colors = [\"orange\", \"blue\", \"green\", \"yellow\"]\n",
    "    \n",
    "    zorder = 4\n",
    "    \n",
    "    bubbles = []\n",
    "    \n",
    "    for i, addr in enumerate(starts):\n",
    "        zorder += 10\n",
    "        location = geocode(addr)\n",
    "        lat, lon = (location.latitude, location.longitude)\n",
    "        # check if the point is indeed in Madison\n",
    "        if lat > max_lat or lat < min_lat or lon > max_lon or lon < min_lon:\n",
    "            print(lat, lon)\n",
    "            print(f\"Looks like {start} is not in madison.\")\n",
    "            continue\n",
    "        gdf = busSim.get_gdf(start_point=(lat, lon))\n",
    "        print(gdf.crs)\n",
    "        gdf = gdf.to_crs(epsg=4326)\n",
    "        \n",
    "        color = colors[i % len(colors)]\n",
    "        bubble = flatten(gdf.difference(lakes.unary_union))\n",
    "        bubble[\"color\"] = color\n",
    "        bubbles.append(bubble)\n",
    "        bubble.boundary.plot(color=color, ax=ax, linewidth=2, zorder=zorder+2)\n",
    "        gdf[\"geometry\"].to_crs('+proj=cea').centroid.to_crs(gdf.crs).plot(color=\"black\", ax=ax, markersize=2, zorder=zorder+3)\n",
    "        #gdf[\"geometry\"].centroid.plot(color=\"black\", ax=ax, markersize=2, zorder=zorder+3)\n",
    "        start = gpd.GeoSeries([Point(lon, lat)])\n",
    "        start.plot(ax = ax, marker='o', color=\"black\", markersize=160, zorder=100)\n",
    "        \n",
    "        leg_lines.append(Line2D([0], [0], color=color, lw=4))\n",
    "        leg_text.append(addr)\n",
    "        \n",
    "    df = pd.concat(bubbles)\n",
    "    df.plot(alpha=0.1, ax=ax, color=df[\"color\"], zorder=zorder)\n",
    "\n",
    "    leg = ax.legend(leg_lines, leg_text, prop={\"size\": 18}, loc=\"upper left\")\n",
    "    leg.get_frame().set_facecolor(\"white\")\n",
    "    leg.get_frame().set_edgecolor(\"white\")\n",
    "\n",
    "    ax.set_axis_off()\n",
    "    #print(f'new Stops df {stops_df}')\n",
    "def demo(addrs_str):\n",
    "    plot([s.strip() for s in addrs_str.split(\"\\n\") if s.strip() != \"\"])"
   ]
  },
  {
   "cell_type": "code",
   "execution_count": null,
   "metadata": {},
   "outputs": [],
   "source": [
    "demo(\"\"\"\n",
    "Sellery\n",
    "\"\"\")"
   ]
  },
  {
   "cell_type": "code",
   "execution_count": null,
   "metadata": {},
   "outputs": [],
   "source": []
  }
 ],
 "metadata": {
  "kernelspec": {
   "display_name": "Python 3",
   "language": "python",
   "name": "python3"
  },
  "language_info": {
   "codemirror_mode": {
    "name": "ipython",
    "version": 3
   },
   "file_extension": ".py",
   "mimetype": "text/x-python",
   "name": "python",
   "nbconvert_exporter": "python",
   "pygments_lexer": "ipython3",
   "version": "3.8.10"
  }
 },
 "nbformat": 4,
 "nbformat_minor": 2
}
