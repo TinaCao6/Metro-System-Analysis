{
 "cells": [
  {
   "cell_type": "code",
   "execution_count": null,
   "metadata": {},
   "outputs": [],
   "source": [
    "from zipfile import ZipFile\n",
    "from io import TextIOWrapper\n",
    "import os\n",
    "import pandas as pd\n",
    "from pyproj import Transformer"
   ]
  },
  {
   "cell_type": "code",
   "execution_count": null,
   "metadata": {},
   "outputs": [],
   "source": [
    "with ZipFile('mygtfs.zip', 'a') as zf:\n",
    "    stops = None\n",
    "    print(zf.namelist())\n",
    "    with zf.open('stops.txt') as f:\n",
    "        stops = pd.read_csv(TextIOWrapper(f), sep=',')\n",
    "        transformer = Transformer.from_crs(4326, 3174)\n",
    "        stop_x, stop_y = transformer.transform(\n",
    "                    stops[\"stop_lat\"], stops[\"stop_lon\"])\n",
    "        stops[\"stop_x\"] = stop_x\n",
    "        stops[\"stop_y\"] = stop_y\n",
    "    print(stops)\n",
    "    zf.writestr('stops_meter.txt', data=stops.to_csv(index=False))\n"
   ]
  },
  {
   "cell_type": "code",
   "execution_count": null,
   "metadata": {},
   "outputs": [],
   "source": [
    "with ZipFile('mygtfs.zip') as zf:\n",
    "    print(zf.namelist())"
   ]
  },
  {
   "cell_type": "code",
   "execution_count": null,
   "metadata": {},
   "outputs": [],
   "source": [
    "1"
   ]
  },
  {
   "cell_type": "code",
   "execution_count": null,
   "metadata": {},
   "outputs": [],
   "source": [
    "with ZipFile('mygtfs.zip', 'a') as zf:\n",
    "    stops = None\n",
    "    print(zf.namelist())\n",
    "    with zf.open('stops.txt') as f:\n",
    "        stops = pd.read_csv(TextIOWrapper(f), sep=',')\n",
    "        transformer = Transformer.from_crs(4326, 3174)\n",
    "        stop_x, stop_y = transformer.transform(\n",
    "                    stops[\"stop_lat\"], stops[\"stop_lon\"])\n",
    "        stops[\"stop_x\"] = stop_x\n",
    "        stops[\"stop_y\"] = stop_y\n",
    "    print(stops)\n",
    "    zf.writestr('stops_meter.txt', data=stops.to_csv(index=False))\n"
   ]
  },
  {
   "cell_type": "code",
   "execution_count": null,
   "metadata": {},
   "outputs": [],
   "source": [
    "1"
   ]
  }
 ],
 "metadata": {
  "interpreter": {
   "hash": "916dbcbb3f70747c44a77c7bcd40155683ae19c65e1c03b4aa3499c5328201f1"
  },
  "kernelspec": {
   "display_name": "Python 3.8.10 64-bit",
   "language": "python",
   "name": "python3"
  },
  "language_info": {
   "codemirror_mode": {
    "name": "ipython",
    "version": 3
   },
   "file_extension": ".py",
   "mimetype": "text/x-python",
   "name": "python",
   "nbconvert_exporter": "python",
   "pygments_lexer": "ipython3",
   "version": "3.8.10"
  },
  "orig_nbformat": 4
 },
 "nbformat": 4,
 "nbformat_minor": 2
}
