{
 "cells": [
  {
   "cell_type": "code",
   "execution_count": 41,
   "metadata": {},
   "outputs": [],
   "source": [
    "from zipfile import ZipFile\n",
    "from io import TextIOWrapper\n",
    "import os\n",
    "import pandas as pd\n",
    "from pyproj import Transformer"
   ]
  },
  {
   "cell_type": "code",
   "execution_count": 42,
   "metadata": {},
   "outputs": [
    {
     "name": "stdout",
     "output_type": "stream",
     "text": [
      "['stop_times.txt', 'stops.txt', 'trips.txt', 'calendar.txt', 'shapes.txt', 'routes.txt', 'stops-3174.txt', 'stops1.txt', 'stops_meter.txt']\n",
      "   stop_id stop_name   stop_lat   stop_lon         stop_x         stop_y\n",
      "0        1    start1  43.067728 -89.412681  596853.344580  734093.931832\n",
      "1        2    start2  43.070048 -89.409206  597151.505241  734333.968529\n",
      "2        3    start3  43.073183 -89.409034  597186.941690  734681.010738\n",
      "3        4    start4  43.073339 -89.400752  597860.697638  734656.853296\n",
      "4        5    start5  43.073183 -89.394014  598406.915588  734605.853858\n",
      "5        6    start6  43.076694 -89.389003  598837.871473  734970.468298\n",
      "6        7    start7  43.087586 -89.373383  600180.565596  736101.410645\n",
      "7        8    start8  43.094058 -89.362203  601132.339275  736764.126519\n",
      "8        9    start9  43.100466 -89.354070  601836.106181  737434.970975\n"
     ]
    },
    {
     "name": "stderr",
     "output_type": "stream",
     "text": [
      "/usr/lib/python3.8/zipfile.py:1517: UserWarning: Duplicate name: 'stops_meter.txt'\n",
      "  return self._open_to_write(zinfo, force_zip64=force_zip64)\n"
     ]
    }
   ],
   "source": [
    "with ZipFile('mygtfs.zip', 'a') as zf:\n",
    "    stops = None\n",
    "    print(zf.namelist())\n",
    "    with zf.open('stops.txt') as f:\n",
    "        stops = pd.read_csv(TextIOWrapper(f), sep=',')\n",
    "        transformer = Transformer.from_crs(4326, 3174)\n",
    "        stop_x, stop_y = transformer.transform(\n",
    "                    stops[\"stop_lat\"], stops[\"stop_lon\"])\n",
    "        stops[\"stop_x\"] = stop_x\n",
    "        stops[\"stop_y\"] = stop_y\n",
    "    print(stops)\n",
    "    zf.writestr('stops_meter.txt', data=stops.to_csv(index=False))\n"
   ]
  },
  {
   "cell_type": "code",
   "execution_count": 43,
   "metadata": {},
   "outputs": [
    {
     "name": "stdout",
     "output_type": "stream",
     "text": [
      "['stop_times.txt', 'stops.txt', 'trips.txt', 'calendar.txt', 'shapes.txt', 'routes.txt', 'stops-3174.txt', 'stops1.txt', 'stops_meter.txt', 'stops_meter.txt']\n"
     ]
    }
   ],
   "source": [
    "with ZipFile('mygtfs.zip') as zf:\n",
    "    print(zf.namelist())"
   ]
  },
  {
   "cell_type": "code",
   "execution_count": null,
   "metadata": {},
   "outputs": [],
   "source": []
  }
 ],
 "metadata": {
  "interpreter": {
   "hash": "916dbcbb3f70747c44a77c7bcd40155683ae19c65e1c03b4aa3499c5328201f1"
  },
  "kernelspec": {
   "display_name": "Python 3.8.10 64-bit",
   "language": "python",
   "name": "python3"
  },
  "language_info": {
   "codemirror_mode": {
    "name": "ipython",
    "version": 3
   },
   "file_extension": ".py",
   "mimetype": "text/x-python",
   "name": "python",
   "nbconvert_exporter": "python",
   "pygments_lexer": "ipython3",
   "version": "3.8.10"
  },
  "orig_nbformat": 4
 },
 "nbformat": 4,
 "nbformat_minor": 2
}
