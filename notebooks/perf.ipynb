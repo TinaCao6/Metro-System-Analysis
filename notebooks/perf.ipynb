{
 "cells": [
  {
   "cell_type": "code",
   "execution_count": null,
   "metadata": {},
   "outputs": [],
   "source": [
    "import geopandas as gpd\n",
    "import pandas as pd\n",
    "import matplotlib.pyplot as plt\n",
    "import numpy as np\n",
    "import json\n",
    "import time\n",
    "import random\n",
    "from datetime import datetime, timedelta\n",
    "from shapely.geometry import Point\n",
    "from busSim import BusSim"
   ]
  },
  {
   "cell_type": "code",
   "execution_count": null,
   "metadata": {},
   "outputs": [],
   "source": [
    "DATA_PATH = \"./data\"\n",
    "DAY = \"monday\"\n",
    "START_TIME = \"12:00:00\"\n",
    "ELAPSE_TIME = \"00:30:00\"\n",
    "AVG_WALKING_SPEED = 1.4  # 1.4 meters per second\n",
    "MAX_WALKING_MIN = 10"
   ]
  },
  {
   "cell_type": "code",
   "execution_count": null,
   "metadata": {},
   "outputs": [],
   "source": [
    "def fmin(minutes):\n",
    "    return f\"{minutes // 60}:{minutes % 60}:00\"\n",
    "\n",
    "# doesn't account for time span across 2 days (not implement for across bus schedule: weekday -> weekend)\n",
    "def every_time(interval, elapse_time):\n",
    "    start_times = []\n",
    "    curr = 0\n",
    "    min_total = 24 * 60 - elapse_time\n",
    "    while curr <= min_total:\n",
    "        start_times.append(fmin(curr))\n",
    "        curr += interval\n",
    "\n",
    "    return start_times"
   ]
  },
  {
   "cell_type": "code",
   "execution_count": null,
   "metadata": {},
   "outputs": [],
   "source": [
    "start_times = every_time(10, 30)\n",
    "perf = pd.DataFrame()\n",
    "\n",
    "ts = time.time()\n",
    "for t in start_times:\n",
    "    print(t)\n",
    "    # t0 = time.time()\n",
    "    busSim = BusSim(DATA_PATH, DAY, t, ELAPSE_TIME, AVG_WALKING_SPEED, MAX_WALKING_MIN)\n",
    "    t1 = time.time()\n",
    "    gdf = busSim.get_gdf(start_point=(43.073691, -89.387407))\n",
    "    t2 = time.time()\n",
    "    busSim.get_area(gdf)\n",
    "    t3 = time.time() \n",
    "    # perf.loc[t, \"graph-gen\"] = t1 - t0\n",
    "    perf.loc[t, \"graph-search\"] = t2 - t1\n",
    "    perf.loc[t, \"calc-area\"] = t3 - t2\n",
    "    perf.loc[t, \"total\"] = t3 - t1\n",
    "    perf.loc[t, \"nodes-num\"] = len(busSim.graph.nodes)\n",
    "\n",
    "te = time.time()\n",
    "perf"
   ]
  },
  {
   "cell_type": "code",
   "execution_count": null,
   "metadata": {},
   "outputs": [],
   "source": [
    "te-ts"
   ]
  },
  {
   "cell_type": "code",
   "execution_count": null,
   "metadata": {},
   "outputs": [],
   "source": [
    "plt.rcParams[\"font.size\"] = 16\n",
    "\n",
    "fig, ax = plt.subplots(figsize=(14,8))\n",
    "perf[\"total\"].plot.line(ax=ax, label=\"Total\", color=\"k\", xlim=10, ylim=0)\n",
    "perf[\"graph-search\"].plot.line(ax=ax, label=\"Graph Search\", color=\"0.5\")\n",
    "perf[\"calc-area\"].plot.line(ax=ax, label=\"Calculate area\", color=\"0.5\", linestyle=\"--\")\n",
    "ax.set_xlabel(\"Starting time\")\n",
    "ax.set_ylabel(\"Sim Exec Time (seconds)\")\n",
    "ax.spines[\"right\"].set_visible(False)\n",
    "ax.spines[\"top\"].set_visible(False)\n",
    "ax.legend()"
   ]
  },
  {
   "cell_type": "code",
   "execution_count": null,
   "metadata": {},
   "outputs": [],
   "source": [
    "fig, ax = plt.subplots(figsize=(14,8))\n",
    "perf[\"nodes-num\"].plot.line(ax=ax, label=\"nodes number\", color=\"k\", xlim=10, ylim=0)\n",
    "ax.set_xlabel(\"Starting time\")\n",
    "ax.set_ylabel(\"nodes number\")\n",
    "ax.spines[\"right\"].set_visible(False)\n",
    "ax.spines[\"top\"].set_visible(False)\n",
    "\n",
    "perf[\"nodes-num\"].max()"
   ]
  },
  {
   "cell_type": "code",
   "execution_count": null,
   "metadata": {},
   "outputs": [],
   "source": [
    "def gen_locations(num):\n",
    "    mmt_gtfs_path = os.path.join(DATA_PATH, \"mmt_gtfs\")\n",
    "    stops_df = pd.read_csv(os.path.join(\n",
    "        mmt_gtfs_path, \"stops.csv\"), sep=\",\")\n",
    "    locations = []\n",
    "\n",
    "    lat_min = stops_df.stop_lat.min()\n",
    "    lat_max = stops_df.stop_lat.max()\n",
    "    lon_min = stops_df.stop_lon.min()\n",
    "    lon_max = stops_df.stop_lon.max()\n",
    "\n",
    "    for i in range(num):\n",
    "        lat = random.random() * (lat_max - lat_min) + lat_min\n",
    "        lon = random.random() * (lon_max - lon_min) + lon_min\n",
    "        locations.append((lat, lon))\n",
    "\n",
    "    return locations"
   ]
  },
  {
   "cell_type": "code",
   "execution_count": null,
   "metadata": {},
   "outputs": [],
   "source": [
    "t0 = time.time()\n",
    "busSim = BusSim(DATA_PATH, DAY, \"10:00:00\", ELAPSE_TIME, AVG_WALKING_SPEED, MAX_WALKING_MIN)\n",
    "t1 = time.time()\n",
    "for location in gen_locations(10):\n",
    "    print(\"--------------------------------------------------------------\")\n",
    "    gdf = busSim.get_gdf(start_point=(location[0], location[1]))\n",
    "    busSim.get_area(gdf)\n",
    "t2 = time.time()"
   ]
  },
  {
   "cell_type": "code",
   "execution_count": null,
   "metadata": {},
   "outputs": [],
   "source": [
    "from busSim.util import get_perf\n",
    "from datetime import datetime\n",
    "import matplotlib\n",
    "\n",
    "matplotlib.rcParams[\"font.size\"] = 18"
   ]
  },
  {
   "cell_type": "code",
   "execution_count": null,
   "metadata": {},
   "outputs": [],
   "source": [
    "fig, ax = plt.subplots(figsize=(14,8))\n",
    "perf_df = get_perf(\"busSim.log\")\n",
    "perf_df.mean().plot.bar(ax = ax)\n",
    "ax.set_ylabel(\"execution time (ms)\")\n",
    "ax.spines[\"right\"].set_visible(False)\n",
    "ax.spines[\"top\"].set_visible(False)\n",
    "plt.xticks(rotation=0)"
   ]
  },
  {
   "cell_type": "code",
   "execution_count": null,
   "metadata": {},
   "outputs": [],
   "source": []
  }
 ],
 "metadata": {
  "kernelspec": {
   "display_name": "Python 3",
   "language": "python",
   "name": "python3"
  },
  "language_info": {
   "codemirror_mode": {
    "name": "ipython",
    "version": 3
   },
   "file_extension": ".py",
   "mimetype": "text/x-python",
   "name": "python",
   "nbconvert_exporter": "python",
   "pygments_lexer": "ipython3",
   "version": "3.8.5-final"
  },
  "orig_nbformat": 2
 },
 "nbformat": 4,
 "nbformat_minor": 2
}
