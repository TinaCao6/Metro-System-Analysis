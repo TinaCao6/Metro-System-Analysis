{
 "cells": [
  {
   "cell_type": "code",
   "execution_count": 1,
   "id": "8465d460",
   "metadata": {},
   "outputs": [
    {
     "name": "stdout",
     "output_type": "stream",
     "text": [
      "manger init\n",
      "mangager register\n",
      "mangager register\n"
     ]
    }
   ],
   "source": [
    "from pathlib import Path\n",
    "import sys\n",
    "import yaml\n",
    "import time\n",
    "import os\n",
    "\n",
    "import numpy as np\n",
    "import pandas as pd\n",
    "import geopandas as gpd\n",
    "import matplotlib.pyplot as plt\n",
    "import gtfs_functions as gtfs\n",
    "\n",
    "DIR = Path('..')\n",
    "sys.path.insert(0, str(DIR))\n",
    "from SCanalyzer import SCanalyzer\n",
    "from SCanalyzer.busSim import BusSim, Config\n",
    "from SCanalyzer.busSim.manager import managerFactory\n",
    "from SCanalyzer.gtfs_edit import edit_double\n",
    "\n",
    "api_key = 'ZsHZFGtKEZeOOXhTne98eErmfd6BfNTm9GqO2S6inSnWzDwtgC2sEauXcB-8zUna_lXZEal4jsW_St6O0OQOcuNvifrr6uqNYmjFXW-FyVKvaMyczbihWELI80tjYHYx'\n",
    "\n",
    "%matplotlib inline"
   ]
  },
  {
   "cell_type": "code",
   "execution_count": 2,
   "id": "17f570a3",
   "metadata": {},
   "outputs": [],
   "source": [
    "gtfo = SCanalyzer(os.path.join('..', 'data', 'lansing_gtfs.zip'))\n",
    "census_gdf = gtfo.load_census()\n",
    "services_gdf = gtfo.load_yelp(api_key=api_key)"
   ]
  },
  {
   "cell_type": "code",
   "execution_count": 3,
   "id": "2284094e",
   "metadata": {},
   "outputs": [
    {
     "name": "stdout",
     "output_type": "stream",
     "text": [
      "80\n",
      "get available manager\n",
      "manager create\n",
      "self=<SCanalyzer.busSim.manager.managerFactory.ManagerFactory object at 0x7f074cd44cd0>\n",
      "key='local'\n",
      "manager=<class 'SCanalyzer.busSim.manager.localManager.LocalManager'>\n",
      "Empty DataFrame\n",
      "Columns: [geometry, start_time, search_time, add_service_time, add_census_time]\n",
      "Index: []\n"
     ]
    },
    {
     "name": "stderr",
     "output_type": "stream",
     "text": [
      "  0%|                                                  | 0/3336 [00:01<?, ?it/s]\n"
     ]
    },
    {
     "ename": "KeyError",
     "evalue": "\"['route_short_name', 'cardinal_direction'] not in index\"",
     "output_type": "error",
     "traceback": [
      "\u001b[0;31m---------------------------------------------------------------------------\u001b[0m",
      "\u001b[0;31mKeyError\u001b[0m                                  Traceback (most recent call last)",
      "Input \u001b[0;32mIn [3]\u001b[0m, in \u001b[0;36m<module>\u001b[0;34m\u001b[0m\n\u001b[1;32m     10\u001b[0m config\u001b[38;5;241m.\u001b[39mset_starts(centroids\u001b[38;5;241m=\u001b[39mcensus_gdf)\n\u001b[1;32m     12\u001b[0m perf_df \u001b[38;5;241m=\u001b[39m pd\u001b[38;5;241m.\u001b[39mDataFrame(\n\u001b[1;32m     13\u001b[0m         columns\u001b[38;5;241m=\u001b[39m[\u001b[38;5;124m\"\u001b[39m\u001b[38;5;124mgeometry\u001b[39m\u001b[38;5;124m\"\u001b[39m, \u001b[38;5;124m\"\u001b[39m\u001b[38;5;124mstart_time\u001b[39m\u001b[38;5;124m\"\u001b[39m, \u001b[38;5;124m\"\u001b[39m\u001b[38;5;124msearch_time\u001b[39m\u001b[38;5;124m\"\u001b[39m, \u001b[38;5;124m\"\u001b[39m\u001b[38;5;124madd_service_time\u001b[39m\u001b[38;5;124m\"\u001b[39m, \u001b[38;5;124m\"\u001b[39m\u001b[38;5;124madd_census_time\u001b[39m\u001b[38;5;124m\"\u001b[39m])\n\u001b[0;32m---> 14\u001b[0m result_gdf \u001b[38;5;241m=\u001b[39m \u001b[43mgtfo\u001b[49m\u001b[38;5;241;43m.\u001b[39;49m\u001b[43msearch\u001b[49m\u001b[43m(\u001b[49m\u001b[43mconfig\u001b[49m\u001b[43m,\u001b[49m\u001b[43m \u001b[49m\u001b[43mperf_df\u001b[49m\u001b[43m)\u001b[49m\n\u001b[1;32m     15\u001b[0m gtfo\u001b[38;5;241m.\u001b[39madd_service_metrics(result_gdf, services_gdf, perf_df)\n\u001b[1;32m     16\u001b[0m gtfo\u001b[38;5;241m.\u001b[39madd_demographic_metrics(result_gdf, census_gdf, perf_df)\n",
      "File \u001b[0;32m/mnt/d/Github/simulator2/notebooks/../SCanalyzer/SCanalyzer.py:56\u001b[0m, in \u001b[0;36mSCanalyzer.search\u001b[0;34m(self, config, perf_df)\u001b[0m\n\u001b[1;32m     52\u001b[0m \u001b[38;5;66;03m# dynamically init a manager\u001b[39;00m\n\u001b[1;32m     53\u001b[0m manager \u001b[38;5;241m=\u001b[39m managerFactory\u001b[38;5;241m.\u001b[39mcreate(\n\u001b[1;32m     54\u001b[0m     config\u001b[38;5;241m.\u001b[39mget_run_env(), gtfs_path\u001b[38;5;241m=\u001b[39m\u001b[38;5;28mself\u001b[39m\u001b[38;5;241m.\u001b[39mgtfs_path, out_path\u001b[38;5;241m=\u001b[39m\u001b[38;5;28mself\u001b[39m\u001b[38;5;241m.\u001b[39mout_path, borders\u001b[38;5;241m=\u001b[39m\u001b[38;5;28mself\u001b[39m\u001b[38;5;241m.\u001b[39mborders)\n\u001b[0;32m---> 56\u001b[0m result_df \u001b[38;5;241m=\u001b[39m \u001b[43mmanager\u001b[49m\u001b[38;5;241;43m.\u001b[39;49m\u001b[43mrun_batch\u001b[49m\u001b[43m(\u001b[49m\u001b[43mconfig\u001b[49m\u001b[43m,\u001b[49m\u001b[43m \u001b[49m\u001b[43mperf_df\u001b[49m\u001b[43m)\u001b[49m\n\u001b[1;32m     58\u001b[0m \u001b[38;5;28;01mreturn\u001b[39;00m result_df\n",
      "File \u001b[0;32m/mnt/d/Github/simulator2/notebooks/../SCanalyzer/busSim/manager/localManager.py:29\u001b[0m, in \u001b[0;36mLocalManager.run_batch\u001b[0;34m(self, config, perf_df)\u001b[0m\n\u001b[1;32m     27\u001b[0m \u001b[38;5;28;01mfor\u001b[39;00m start_time \u001b[38;5;129;01min\u001b[39;00m start_times:\n\u001b[1;32m     28\u001b[0m     s \u001b[38;5;241m=\u001b[39m time\u001b[38;5;241m.\u001b[39mtime()\n\u001b[0;32m---> 29\u001b[0m     busSim \u001b[38;5;241m=\u001b[39m \u001b[43mBusSim\u001b[49m\u001b[43m(\u001b[49m\u001b[38;5;28;43mself\u001b[39;49m\u001b[43m,\u001b[49m\u001b[43m \u001b[49m\u001b[43mbusSim_params\u001b[49m\u001b[43m[\u001b[49m\u001b[38;5;124;43m\"\u001b[39;49m\u001b[38;5;124;43mday\u001b[39;49m\u001b[38;5;124;43m\"\u001b[39;49m\u001b[43m]\u001b[49m\u001b[43m,\u001b[49m\u001b[43m \u001b[49m\u001b[43mstart_time\u001b[49m\u001b[43m,\u001b[49m\u001b[43m \u001b[49m\u001b[43mbusSim_params\u001b[49m\u001b[43m[\u001b[49m\u001b[38;5;124;43m\"\u001b[39;49m\u001b[38;5;124;43melapse_time\u001b[39;49m\u001b[38;5;124;43m\"\u001b[39;49m\u001b[43m]\u001b[49m\u001b[43m,\u001b[49m\n\u001b[1;32m     30\u001b[0m \u001b[43m                    \u001b[49m\u001b[43mbusSim_params\u001b[49m\u001b[43m[\u001b[49m\u001b[38;5;124;43m\"\u001b[39;49m\u001b[38;5;124;43mavg_walking_speed\u001b[39;49m\u001b[38;5;124;43m\"\u001b[39;49m\u001b[43m]\u001b[49m\u001b[43m,\u001b[49m\u001b[43m \u001b[49m\u001b[43mbusSim_params\u001b[49m\u001b[43m[\u001b[49m\u001b[38;5;124;43m\"\u001b[39;49m\u001b[38;5;124;43mmax_walking_min\u001b[39;49m\u001b[38;5;124;43m\"\u001b[39;49m\u001b[43m]\u001b[49m\u001b[43m)\u001b[49m\n\u001b[1;32m     31\u001b[0m     result \u001b[38;5;241m=\u001b[39m SearchResult(busSim, busSim_params[\u001b[38;5;124m\"\u001b[39m\u001b[38;5;124mgrid_size_min\u001b[39m\u001b[38;5;124m\"\u001b[39m])\n\u001b[1;32m     32\u001b[0m     filename \u001b[38;5;241m=\u001b[39m result\u001b[38;5;241m.\u001b[39mget_out_filename()\n",
      "File \u001b[0;32m/mnt/d/Github/simulator2/notebooks/../SCanalyzer/busSim/busSim.py:56\u001b[0m, in \u001b[0;36mBusSim.__init__\u001b[0;34m(self, manager, day, start_time, elapse_time, avg_walking_speed, max_walking_min, trip_delays)\u001b[0m\n\u001b[1;32m     54\u001b[0m \u001b[38;5;28mself\u001b[39m\u001b[38;5;241m.\u001b[39mmax_walking_min \u001b[38;5;241m=\u001b[39m max_walking_min\n\u001b[1;32m     55\u001b[0m \u001b[38;5;28mself\u001b[39m\u001b[38;5;241m.\u001b[39mmax_walking_distance \u001b[38;5;241m=\u001b[39m max_walking_min \u001b[38;5;241m*\u001b[39m \u001b[38;5;241m60.0\u001b[39m \u001b[38;5;241m*\u001b[39m avg_walking_speed\n\u001b[0;32m---> 56\u001b[0m \u001b[38;5;28mself\u001b[39m\u001b[38;5;241m.\u001b[39mstopTimes_final_df \u001b[38;5;241m=\u001b[39m \u001b[38;5;28;43mself\u001b[39;49m\u001b[38;5;241;43m.\u001b[39;49m\u001b[43m_gen_final_df\u001b[49m\u001b[43m(\u001b[49m\u001b[43mtrip_delays\u001b[49m\u001b[43m)\u001b[49m\n\u001b[1;32m     57\u001b[0m \u001b[38;5;28mself\u001b[39m\u001b[38;5;241m.\u001b[39mgraph \u001b[38;5;241m=\u001b[39m Graph(\u001b[38;5;28mself\u001b[39m\u001b[38;5;241m.\u001b[39mstopTimes_final_df, start_time,\n\u001b[1;32m     58\u001b[0m                    elapse_time, \u001b[38;5;28mself\u001b[39m\u001b[38;5;241m.\u001b[39mmax_walking_distance, avg_walking_speed)\n\u001b[1;32m     59\u001b[0m \u001b[38;5;28mself\u001b[39m\u001b[38;5;241m.\u001b[39m_logger\u001b[38;5;241m.\u001b[39minfo(\u001b[38;5;124m\"\u001b[39m\u001b[38;5;124mSim successfully initialized\u001b[39m\u001b[38;5;124m\"\u001b[39m)\n",
      "File \u001b[0;32m/mnt/d/Github/simulator2/notebooks/../SCanalyzer/busSim/busSim.py:188\u001b[0m, in \u001b[0;36mBusSim._gen_final_df\u001b[0;34m(self, trip_delays)\u001b[0m\n\u001b[1;32m    185\u001b[0m \u001b[38;5;66;03m# get valid stop_times\u001b[39;00m\n\u001b[1;32m    186\u001b[0m stopTimes_filtered_df \u001b[38;5;241m=\u001b[39m trips_df\u001b[38;5;241m.\u001b[39mmerge(\n\u001b[1;32m    187\u001b[0m     stopTimes_df, on\u001b[38;5;241m=\u001b[39m\u001b[38;5;124m\"\u001b[39m\u001b[38;5;124mtrip_id\u001b[39m\u001b[38;5;124m\"\u001b[39m)\n\u001b[0;32m--> 188\u001b[0m stopTimes_merged_df \u001b[38;5;241m=\u001b[39m \u001b[43mstopTimes_filtered_df\u001b[49m\u001b[38;5;241;43m.\u001b[39;49m\u001b[43mmerge\u001b[49m\u001b[43m(\u001b[49m\u001b[43mstops_df\u001b[49m\u001b[43m,\u001b[49m\u001b[43m \u001b[49m\u001b[43mon\u001b[49m\u001b[38;5;241;43m=\u001b[39;49m\u001b[38;5;124;43m\"\u001b[39;49m\u001b[38;5;124;43mstop_id\u001b[39;49m\u001b[38;5;124;43m\"\u001b[39;49m\u001b[43m)\u001b[49m\u001b[43m[\u001b[49m\n\u001b[1;32m    189\u001b[0m \u001b[43m    \u001b[49m\u001b[43m[\u001b[49m\u001b[38;5;124;43m\"\u001b[39;49m\u001b[38;5;124;43mservice_id\u001b[39;49m\u001b[38;5;124;43m\"\u001b[39;49m\u001b[43m,\u001b[49m\u001b[43m \u001b[49m\u001b[38;5;124;43m\"\u001b[39;49m\u001b[38;5;124;43mroute_short_name\u001b[39;49m\u001b[38;5;124;43m\"\u001b[39;49m\u001b[43m,\u001b[49m\u001b[43m \u001b[49m\u001b[38;5;124;43m\"\u001b[39;49m\u001b[38;5;124;43mtrip_id\u001b[39;49m\u001b[38;5;124;43m\"\u001b[39;49m\u001b[43m,\u001b[49m\u001b[43m \u001b[49m\u001b[38;5;124;43m\"\u001b[39;49m\u001b[38;5;124;43mstop_id\u001b[39;49m\u001b[38;5;124;43m\"\u001b[39;49m\u001b[43m,\u001b[49m\u001b[43m \u001b[49m\u001b[38;5;124;43m\"\u001b[39;49m\u001b[38;5;124;43mstop_sequence\u001b[39;49m\u001b[38;5;124;43m\"\u001b[39;49m\u001b[43m,\u001b[49m\u001b[43m \u001b[49m\u001b[38;5;124;43m\"\u001b[39;49m\u001b[38;5;124;43marrival_time\u001b[39;49m\u001b[38;5;124;43m\"\u001b[39;49m\u001b[43m,\u001b[49m\u001b[43m \u001b[49m\u001b[38;5;124;43m\"\u001b[39;49m\u001b[38;5;124;43mshape_dist_traveled\u001b[39;49m\u001b[38;5;124;43m\"\u001b[39;49m\u001b[43m,\u001b[49m\u001b[43m \u001b[49m\u001b[38;5;124;43m\"\u001b[39;49m\u001b[38;5;124;43mstop_x\u001b[39;49m\u001b[38;5;124;43m\"\u001b[39;49m\u001b[43m,\u001b[49m\u001b[43m \u001b[49m\u001b[38;5;124;43m\"\u001b[39;49m\u001b[38;5;124;43mstop_y\u001b[39;49m\u001b[38;5;124;43m\"\u001b[39;49m\u001b[43m,\u001b[49m\u001b[43m \u001b[49m\u001b[38;5;124;43m\"\u001b[39;49m\u001b[38;5;124;43mcardinal_direction\u001b[39;49m\u001b[38;5;124;43m\"\u001b[39;49m\u001b[43m]\u001b[49m\u001b[43m]\u001b[49m\n\u001b[1;32m    191\u001b[0m \u001b[38;5;66;03m# get stop_times within the time frame\u001b[39;00m\n\u001b[1;32m    192\u001b[0m stopTimes_merged_df[\u001b[38;5;124m'\u001b[39m\u001b[38;5;124marrival_time\u001b[39m\u001b[38;5;124m'\u001b[39m] \u001b[38;5;241m=\u001b[39m pd\u001b[38;5;241m.\u001b[39mto_timedelta(\n\u001b[1;32m    193\u001b[0m     stopTimes_merged_df[\u001b[38;5;124m'\u001b[39m\u001b[38;5;124marrival_time\u001b[39m\u001b[38;5;124m'\u001b[39m])\n",
      "File \u001b[0;32m~/.local/lib/python3.8/site-packages/pandas/core/frame.py:3512\u001b[0m, in \u001b[0;36mDataFrame.__getitem__\u001b[0;34m(self, key)\u001b[0m\n\u001b[1;32m   3510\u001b[0m     \u001b[38;5;28;01mif\u001b[39;00m is_iterator(key):\n\u001b[1;32m   3511\u001b[0m         key \u001b[38;5;241m=\u001b[39m \u001b[38;5;28mlist\u001b[39m(key)\n\u001b[0;32m-> 3512\u001b[0m     indexer \u001b[38;5;241m=\u001b[39m \u001b[38;5;28;43mself\u001b[39;49m\u001b[38;5;241;43m.\u001b[39;49m\u001b[43mcolumns\u001b[49m\u001b[38;5;241;43m.\u001b[39;49m\u001b[43m_get_indexer_strict\u001b[49m\u001b[43m(\u001b[49m\u001b[43mkey\u001b[49m\u001b[43m,\u001b[49m\u001b[43m \u001b[49m\u001b[38;5;124;43m\"\u001b[39;49m\u001b[38;5;124;43mcolumns\u001b[39;49m\u001b[38;5;124;43m\"\u001b[39;49m\u001b[43m)\u001b[49m[\u001b[38;5;241m1\u001b[39m]\n\u001b[1;32m   3514\u001b[0m \u001b[38;5;66;03m# take() does not accept boolean indexers\u001b[39;00m\n\u001b[1;32m   3515\u001b[0m \u001b[38;5;28;01mif\u001b[39;00m \u001b[38;5;28mgetattr\u001b[39m(indexer, \u001b[38;5;124m\"\u001b[39m\u001b[38;5;124mdtype\u001b[39m\u001b[38;5;124m\"\u001b[39m, \u001b[38;5;28;01mNone\u001b[39;00m) \u001b[38;5;241m==\u001b[39m \u001b[38;5;28mbool\u001b[39m:\n",
      "File \u001b[0;32m~/.local/lib/python3.8/site-packages/pandas/core/indexes/base.py:5782\u001b[0m, in \u001b[0;36mIndex._get_indexer_strict\u001b[0;34m(self, key, axis_name)\u001b[0m\n\u001b[1;32m   5779\u001b[0m \u001b[38;5;28;01melse\u001b[39;00m:\n\u001b[1;32m   5780\u001b[0m     keyarr, indexer, new_indexer \u001b[38;5;241m=\u001b[39m \u001b[38;5;28mself\u001b[39m\u001b[38;5;241m.\u001b[39m_reindex_non_unique(keyarr)\n\u001b[0;32m-> 5782\u001b[0m \u001b[38;5;28;43mself\u001b[39;49m\u001b[38;5;241;43m.\u001b[39;49m\u001b[43m_raise_if_missing\u001b[49m\u001b[43m(\u001b[49m\u001b[43mkeyarr\u001b[49m\u001b[43m,\u001b[49m\u001b[43m \u001b[49m\u001b[43mindexer\u001b[49m\u001b[43m,\u001b[49m\u001b[43m \u001b[49m\u001b[43maxis_name\u001b[49m\u001b[43m)\u001b[49m\n\u001b[1;32m   5784\u001b[0m keyarr \u001b[38;5;241m=\u001b[39m \u001b[38;5;28mself\u001b[39m\u001b[38;5;241m.\u001b[39mtake(indexer)\n\u001b[1;32m   5785\u001b[0m \u001b[38;5;28;01mif\u001b[39;00m \u001b[38;5;28misinstance\u001b[39m(key, Index):\n\u001b[1;32m   5786\u001b[0m     \u001b[38;5;66;03m# GH 42790 - Preserve name from an Index\u001b[39;00m\n",
      "File \u001b[0;32m~/.local/lib/python3.8/site-packages/pandas/core/indexes/base.py:5845\u001b[0m, in \u001b[0;36mIndex._raise_if_missing\u001b[0;34m(self, key, indexer, axis_name)\u001b[0m\n\u001b[1;32m   5842\u001b[0m     \u001b[38;5;28;01mraise\u001b[39;00m \u001b[38;5;167;01mKeyError\u001b[39;00m(\u001b[38;5;124mf\u001b[39m\u001b[38;5;124m\"\u001b[39m\u001b[38;5;124mNone of [\u001b[39m\u001b[38;5;132;01m{\u001b[39;00mkey\u001b[38;5;132;01m}\u001b[39;00m\u001b[38;5;124m] are in the [\u001b[39m\u001b[38;5;132;01m{\u001b[39;00maxis_name\u001b[38;5;132;01m}\u001b[39;00m\u001b[38;5;124m]\u001b[39m\u001b[38;5;124m\"\u001b[39m)\n\u001b[1;32m   5844\u001b[0m not_found \u001b[38;5;241m=\u001b[39m \u001b[38;5;28mlist\u001b[39m(ensure_index(key)[missing_mask\u001b[38;5;241m.\u001b[39mnonzero()[\u001b[38;5;241m0\u001b[39m]]\u001b[38;5;241m.\u001b[39munique())\n\u001b[0;32m-> 5845\u001b[0m \u001b[38;5;28;01mraise\u001b[39;00m \u001b[38;5;167;01mKeyError\u001b[39;00m(\u001b[38;5;124mf\u001b[39m\u001b[38;5;124m\"\u001b[39m\u001b[38;5;132;01m{\u001b[39;00mnot_found\u001b[38;5;132;01m}\u001b[39;00m\u001b[38;5;124m not in index\u001b[39m\u001b[38;5;124m\"\u001b[39m)\n",
      "\u001b[0;31mKeyError\u001b[0m: \"['route_short_name', 'cardinal_direction'] not in index\""
     ]
    }
   ],
   "source": [
    "# routes = [ 2,  4,  5,  6,  7,  8, 10, 11, 12, 13, 15, 16, 17, 18, 20, 21, 22,\n",
    "#        23, 26, 27, 30, 31, 32, 33, 36, 39, 40, 44, 48, 49, 50, 51, 52, 55,\n",
    "#        67, 70, 72, 73, 75, 59, 63, 68, 78, 80, 84, 81, 82]\n",
    "\n",
    "routes = [80]\n",
    "for route in routes:\n",
    "    print(route)\n",
    "    gtfo.set_batch_label(f\"{route}-rm\")\n",
    "    config = Config(day=\"monday\", elapse_time=\"00:30:00\", interval=\"02:00:00\", max_walking_min=10, route_remove=[route])\n",
    "    config.set_starts(centroids=census_gdf)\n",
    "\n",
    "    perf_df = pd.DataFrame(\n",
    "            columns=[\"geometry\", \"start_time\", \"search_time\", \"add_service_time\", \"add_census_time\"])\n",
    "    result_gdf = gtfo.search(config, perf_df)\n",
    "    gtfo.add_service_metrics(result_gdf, services_gdf, perf_df)\n",
    "    gtfo.add_demographic_metrics(result_gdf, census_gdf, perf_df)\n",
    "    result_gdf.to_csv(os.path.join('.', 'out', f'result{route}.csv'), index=False)\n",
    "    perf_df.to_csv(os.path.join('.', 'out', f'perf{route}.csv'), index=False)"
   ]
  },
  {
   "cell_type": "code",
   "execution_count": null,
   "id": "b7cbb144",
   "metadata": {},
   "outputs": [],
   "source": [
    "routes, stops, stop_times, trips, shapes = gtfs.import_gtfs(os.path.join('..', 'data', 'lansing_gtfs.zip'))"
   ]
  },
  {
   "cell_type": "code",
   "execution_count": null,
   "id": "3d2604cb",
   "metadata": {},
   "outputs": [],
   "source": [
    "cutoffs = [0,6,9,15,19,22,24]\n",
    "line_freq = gtfs.lines_freq(stop_times, trips, shapes, routes, cutoffs = cutoffs)"
   ]
  },
  {
   "cell_type": "code",
   "execution_count": null,
   "id": "dabeb595",
   "metadata": {},
   "outputs": [],
   "source": [
    "condition_dir = line_freq.dir_id == 'Inbound'\n",
    "condition_window = line_freq.window == '9:00-15:00'\n",
    "\n",
    "gdf = line_freq.loc[(condition_dir & condition_window),:].reset_index()\n",
    "\n",
    "gtfs.map_gdf(gdf = gdf, \n",
    "              variable = 'ntrips', \n",
    "              colors = [\"#d13870\", \"#e895b3\" ,'#55d992', '#3ab071', '#0e8955','#066a40'], \n",
    "              tooltip_var = ['route_name'] , \n",
    "              tooltip_labels = ['Route: '], \n",
    "              breaks = [5, 10, 20, 50])"
   ]
  },
  {
   "cell_type": "code",
   "execution_count": null,
   "id": "f0fbb485",
   "metadata": {},
   "outputs": [],
   "source": []
  }
 ],
 "metadata": {
  "kernelspec": {
   "display_name": "Python 3 (ipykernel)",
   "language": "python",
   "name": "python3"
  },
  "language_info": {
   "codemirror_mode": {
    "name": "ipython",
    "version": 3
   },
   "file_extension": ".py",
   "mimetype": "text/x-python",
   "name": "python",
   "nbconvert_exporter": "python",
   "pygments_lexer": "ipython3",
   "version": "3.8.10"
  }
 },
 "nbformat": 4,
 "nbformat_minor": 5
}
