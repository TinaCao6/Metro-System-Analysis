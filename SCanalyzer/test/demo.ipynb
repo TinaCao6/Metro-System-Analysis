{
 "cells": [
  {
   "cell_type": "code",
   "execution_count": 1,
   "metadata": {},
   "outputs": [],
   "source": [
    "from math import *\n",
    "class Node:\n",
    "    def __init__(self, trip_id, route_short_name, stop_sequence, stop_id, stop_x, stop_y, arrival_time, max_walking_distance):\n",
    "        self.trip_id = trip_id\n",
    "        self.route_short_name = route_short_name\n",
    "        self.stop_sequence = stop_sequence\n",
    "        self.stop_id = stop_id\n",
    "        self.stop_x = stop_x\n",
    "        self.stop_y = stop_y\n",
    "        self.arrival_time = arrival_time\n",
    "        # this should be modified by search in graph\n",
    "        self.walking_distance = max_walking_distance\n",
    "        self.children = [] # list of NodeCostPair(node(obj), cost(int))\n",
    "\n",
    "    def distance(self, other):\n",
    "        return sqrt((other.stop_x - self.stop_x)**2 + (other.stop_y - self.stop_y)**2)\n",
    "\n",
    "    def __str__(self):\n",
    "        return f\"({self.trip_id}, {self.route_short_name}, {self.stop_sequence}, {self.stop_id}, {self.arrival_time}, {self.walking_distance}\"\n",
    "\n",
    "    def __repr__(self):\n",
    "        rv = self.__str__()\n",
    "        rv += \"\\nChildren:\\n\"\n",
    "        for child in self.children:\n",
    "            rv += f\"  cost: {child.cost} \"\n",
    "            child = child.node\n",
    "            rv += str(child)\n",
    "            rv += \"\\n\"\n",
    "        return rv\n",
    "\n",
    "    def __lt__(self, other):\n",
    "        # always retain sequence here\n",
    "        return False\n",
    "\n",
    "\n",
    "import heapq\n",
    "def _dijkstra(start, route_remove):\n",
    "        pq = [(0, start)]\n",
    "        while len(pq) > 0:\n",
    "            curr_distance, curr_node = heapq.heappop(pq)\n",
    "            # print(f\"curr_distance: {curr_distance} curr_node: {curr_node}\")\n",
    "\n",
    "            if curr_distance > curr_node.walking_distance:\n",
    "                continue\n",
    "\n",
    "            for child in curr_node.children:\n",
    "                if child.node.route_short_name in route_remove:\n",
    "                    continue\n",
    "                cost = child.cost\n",
    "                child = child.node\n",
    "\n",
    "                distance = curr_distance + cost\n",
    "\n",
    "                if distance < child.walking_distance:\n",
    "                    child.walking_distance = distance\n",
    "                    heapq.heappush(pq, (distance, child))"
   ]
  },
  {
   "cell_type": "code",
   "execution_count": 7,
   "metadata": {},
   "outputs": [
    {
     "name": "stdout",
     "output_type": "stream",
     "text": [
      "2\n",
      "3\n"
     ]
    }
   ],
   "source": [
    "a = [1,2,3]\n",
    "for x in filter(lambda x:x!=1, a): \n",
    "    print(x)"
   ]
  },
  {
   "cell_type": "code",
   "execution_count": 4,
   "metadata": {},
   "outputs": [],
   "source": [
    "b=[]\n",
    "b.extend(a)"
   ]
  },
  {
   "cell_type": "code",
   "execution_count": 5,
   "metadata": {},
   "outputs": [
    {
     "data": {
      "text/plain": [
       "[1, 2, 3]"
      ]
     },
     "execution_count": 5,
     "metadata": {},
     "output_type": "execute_result"
    }
   ],
   "source": [
    "b"
   ]
  },
  {
   "cell_type": "code",
   "execution_count": null,
   "metadata": {},
   "outputs": [],
   "source": []
  }
 ],
 "metadata": {
  "interpreter": {
   "hash": "916dbcbb3f70747c44a77c7bcd40155683ae19c65e1c03b4aa3499c5328201f1"
  },
  "kernelspec": {
   "display_name": "Python 3.8.10 64-bit",
   "language": "python",
   "name": "python3"
  },
  "language_info": {
   "codemirror_mode": {
    "name": "ipython",
    "version": 3
   },
   "file_extension": ".py",
   "mimetype": "text/x-python",
   "name": "python",
   "nbconvert_exporter": "python",
   "pygments_lexer": "ipython3",
   "version": "3.8.10"
  },
  "orig_nbformat": 4
 },
 "nbformat": 4,
 "nbformat_minor": 2
}
